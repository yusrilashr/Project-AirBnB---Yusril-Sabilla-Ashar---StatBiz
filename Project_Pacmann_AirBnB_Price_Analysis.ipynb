{
  "cells": [
    {
      "cell_type": "markdown",
      "source": [
        "# **Assessing the Factors Influencing Airbnb Rental Prices in Europe: A Multiple Linear Regression Analysis**\n",
        "---"
      ],
      "metadata": {
        "id": "vlc5imC0sgC5"
      }
    },
    {
      "cell_type": "markdown",
      "source": [
        "Yusril Sabilla Ashar - Statistic of Business"
      ],
      "metadata": {
        "id": "9sd4xsDtxy7I"
      }
    },
    {
      "cell_type": "markdown",
      "metadata": {
        "id": "Qj_JUYyPT4__"
      },
      "source": [
        "### Import Package"
      ]
    },
    {
      "cell_type": "code",
      "execution_count": 300,
      "metadata": {
        "id": "MAZbJRNxnapi"
      },
      "outputs": [],
      "source": [
        "import pandas as pd\n",
        "import numpy as np\n",
        "import matplotlib.pyplot as plt\n",
        "import seaborn as sns\n",
        "import datetime as dt\n",
        "from statistics import mode"
      ]
    },
    {
      "cell_type": "markdown",
      "metadata": {
        "id": "kaEuakT7T-h8"
      },
      "source": [
        "###Import Dataset"
      ]
    },
    {
      "cell_type": "code",
      "execution_count": 301,
      "metadata": {
        "colab": {
          "base_uri": "https://localhost:8080/"
        },
        "id": "Sbh-YUeEnfDk",
        "outputId": "4bd6aab2-96ff-4e87-decb-ed35efafa354"
      },
      "outputs": [
        {
          "output_type": "stream",
          "name": "stdout",
          "text": [
            "Drive already mounted at /content/drive; to attempt to forcibly remount, call drive.mount(\"/content/drive\", force_remount=True).\n"
          ]
        }
      ],
      "source": [
        "from google.colab import drive\n",
        "drive.mount('/content/drive')"
      ]
    },
    {
      "cell_type": "code",
      "execution_count": 302,
      "metadata": {
        "colab": {
          "base_uri": "https://localhost:8080/"
        },
        "id": "Gw1L27Vboahv",
        "outputId": "1170615e-fd44-4427-832e-35eee08a083a"
      },
      "outputs": [
        {
          "output_type": "stream",
          "name": "stdout",
          "text": [
            "       Unnamed: 0     realSum        room_type  room_shared  room_private  \\\n",
            "0               0  185.799757     Private room        False          True   \n",
            "1               1  387.491820  Entire home/apt        False         False   \n",
            "2               2  194.914462     Private room        False          True   \n",
            "3               3  171.777134     Private room        False          True   \n",
            "4               4  207.768533     Private room        False          True   \n",
            "...           ...         ...              ...          ...           ...   \n",
            "51702        1733  219.012224  Entire home/apt        False         False   \n",
            "51703        1734  191.197438  Entire home/apt        False         False   \n",
            "51704        1735  251.501765  Entire home/apt        False         False   \n",
            "51705        1736  637.636444  Entire home/apt        False         False   \n",
            "51706        1737  133.230489     Private room        False          True   \n",
            "\n",
            "       person_capacity  host_is_superhost  multi  biz  cleanliness_rating  \\\n",
            "0                  2.0               True      0    0                10.0   \n",
            "1                  6.0              False      0    1                10.0   \n",
            "2                  5.0              False      0    1                 9.0   \n",
            "3                  2.0              False      0    0                 9.0   \n",
            "4                  3.0               True      0    0                10.0   \n",
            "...                ...                ...    ...  ...                 ...   \n",
            "51702              4.0              False      0    0                 8.0   \n",
            "51703              4.0              False      0    1                10.0   \n",
            "51704              2.0              False      0    0                 8.0   \n",
            "51705              2.0              False      0    0                10.0   \n",
            "51706              4.0               True      1    0                10.0   \n",
            "\n",
            "       ...      dist  metro_dist  attr_index  attr_index_norm  rest_index  \\\n",
            "0      ...  3.582222    0.174708  105.063613        16.013858  148.940768   \n",
            "1      ...  6.082132    0.480956   52.877461         8.059614   66.884920   \n",
            "2      ...  3.525398    0.511928   75.339762        11.483331  106.443168   \n",
            "3      ...  3.801739    0.281385   73.668908        11.228659  105.438990   \n",
            "4      ...  0.982405    0.705579  133.187395        20.300502  198.233241   \n",
            "...    ...       ...         ...         ...              ...         ...   \n",
            "51702  ...  0.298179    0.257904  851.189543        60.958556  593.167136   \n",
            "51703  ...  1.052982    0.332054  195.654600        14.011946  305.781569   \n",
            "51704  ...  0.810224    0.100844  204.967222        14.678876  342.177253   \n",
            "51705  ...  0.994039    0.202537  169.074867        12.108419  282.299117   \n",
            "51706  ...  1.263948    0.480922  150.449976        10.774584  225.245048   \n",
            "\n",
            "       rest_index_norm       lng       lat    City  Day Type  \n",
            "0            31.511339  13.42344  52.49150  berlin  weekends  \n",
            "1            14.150816  13.50300  52.50900  berlin  weekends  \n",
            "2            22.520139  13.46800  52.51900  berlin  weekends  \n",
            "3            22.307685  13.47096  52.51527  berlin  weekends  \n",
            "4            41.940128  13.42281  52.53139  berlin  weekends  \n",
            "...                ...       ...       ...     ...       ...  \n",
            "51702        14.180090  16.37766  48.20875  vienna  weekdays  \n",
            "51703         7.309930  16.37892  48.19973  vienna  weekdays  \n",
            "51704         8.179995  16.38070  48.20296  vienna  weekdays  \n",
            "51705         6.748565  16.38568  48.20460  vienna  weekdays  \n",
            "51706         5.384646  16.39066  48.20811  vienna  weekdays  \n",
            "\n",
            "[51707 rows x 22 columns]\n"
          ]
        }
      ],
      "source": [
        "import os\n",
        "import glob\n",
        "# Path to the folder containing the CSV files\n",
        "folder_path = \"/content/drive/My Drive/AirBnB/AirBnB\"\n",
        "\n",
        "# Get a list of all CSV files in the folder\n",
        "csv_files = glob.glob(os.path.join(folder_path, \"*.csv\"))\n",
        "\n",
        "# Load all CSV files into a list of dataframes and add \"City\" and \"Day Type\" columns\n",
        "dfs = []\n",
        "for file in csv_files:\n",
        "    # Get the city and day type from the file name\n",
        "    file_name = os.path.basename(file)\n",
        "    city, day_type = file_name.split(\"_\")\n",
        "    \n",
        "    # Load the CSV file into a dataframe and add the \"City\" and \"Day Type\" columns\n",
        "    df = pd.read_csv(file)\n",
        "    df[\"City\"] = city\n",
        "    df[\"Day Type\"] = day_type.split(\".\")[0]\n",
        "    dfs.append(df)\n",
        "\n",
        "# Concatenate all dataframes into one\n",
        "df = pd.concat(dfs, ignore_index=True)\n",
        "\n",
        "# Print the combined dataframe\n",
        "print(df)"
      ]
    },
    {
      "cell_type": "markdown",
      "metadata": {
        "id": "C1M5pfooUETF"
      },
      "source": [
        "### Check and Cleaning Data"
      ]
    },
    {
      "cell_type": "code",
      "execution_count": 303,
      "metadata": {
        "colab": {
          "base_uri": "https://localhost:8080/",
          "height": 403
        },
        "id": "Y1tAfc_BpisF",
        "outputId": "f30edcdc-5ed2-4875-8dc5-fcfa2f720d83"
      },
      "outputs": [
        {
          "output_type": "execute_result",
          "data": {
            "text/plain": [
              "   Unnamed: 0     realSum        room_type  room_shared  room_private  \\\n",
              "0           0  185.799757     Private room        False          True   \n",
              "1           1  387.491820  Entire home/apt        False         False   \n",
              "2           2  194.914462     Private room        False          True   \n",
              "3           3  171.777134     Private room        False          True   \n",
              "4           4  207.768533     Private room        False          True   \n",
              "\n",
              "   person_capacity  host_is_superhost  multi  biz  cleanliness_rating  ...  \\\n",
              "0              2.0               True      0    0                10.0  ...   \n",
              "1              6.0              False      0    1                10.0  ...   \n",
              "2              5.0              False      0    1                 9.0  ...   \n",
              "3              2.0              False      0    0                 9.0  ...   \n",
              "4              3.0               True      0    0                10.0  ...   \n",
              "\n",
              "       dist  metro_dist  attr_index  attr_index_norm  rest_index  \\\n",
              "0  3.582222    0.174708  105.063613        16.013858  148.940768   \n",
              "1  6.082132    0.480956   52.877461         8.059614   66.884920   \n",
              "2  3.525398    0.511928   75.339762        11.483331  106.443168   \n",
              "3  3.801739    0.281385   73.668908        11.228659  105.438990   \n",
              "4  0.982405    0.705579  133.187395        20.300502  198.233241   \n",
              "\n",
              "   rest_index_norm       lng       lat    City  Day Type  \n",
              "0        31.511339  13.42344  52.49150  berlin  weekends  \n",
              "1        14.150816  13.50300  52.50900  berlin  weekends  \n",
              "2        22.520139  13.46800  52.51900  berlin  weekends  \n",
              "3        22.307685  13.47096  52.51527  berlin  weekends  \n",
              "4        41.940128  13.42281  52.53139  berlin  weekends  \n",
              "\n",
              "[5 rows x 22 columns]"
            ],
            "text/html": [
              "\n",
              "  <div id=\"df-3da286df-b529-4c3a-8e44-ec98ebccda8b\">\n",
              "    <div class=\"colab-df-container\">\n",
              "      <div>\n",
              "<style scoped>\n",
              "    .dataframe tbody tr th:only-of-type {\n",
              "        vertical-align: middle;\n",
              "    }\n",
              "\n",
              "    .dataframe tbody tr th {\n",
              "        vertical-align: top;\n",
              "    }\n",
              "\n",
              "    .dataframe thead th {\n",
              "        text-align: right;\n",
              "    }\n",
              "</style>\n",
              "<table border=\"1\" class=\"dataframe\">\n",
              "  <thead>\n",
              "    <tr style=\"text-align: right;\">\n",
              "      <th></th>\n",
              "      <th>Unnamed: 0</th>\n",
              "      <th>realSum</th>\n",
              "      <th>room_type</th>\n",
              "      <th>room_shared</th>\n",
              "      <th>room_private</th>\n",
              "      <th>person_capacity</th>\n",
              "      <th>host_is_superhost</th>\n",
              "      <th>multi</th>\n",
              "      <th>biz</th>\n",
              "      <th>cleanliness_rating</th>\n",
              "      <th>...</th>\n",
              "      <th>dist</th>\n",
              "      <th>metro_dist</th>\n",
              "      <th>attr_index</th>\n",
              "      <th>attr_index_norm</th>\n",
              "      <th>rest_index</th>\n",
              "      <th>rest_index_norm</th>\n",
              "      <th>lng</th>\n",
              "      <th>lat</th>\n",
              "      <th>City</th>\n",
              "      <th>Day Type</th>\n",
              "    </tr>\n",
              "  </thead>\n",
              "  <tbody>\n",
              "    <tr>\n",
              "      <th>0</th>\n",
              "      <td>0</td>\n",
              "      <td>185.799757</td>\n",
              "      <td>Private room</td>\n",
              "      <td>False</td>\n",
              "      <td>True</td>\n",
              "      <td>2.0</td>\n",
              "      <td>True</td>\n",
              "      <td>0</td>\n",
              "      <td>0</td>\n",
              "      <td>10.0</td>\n",
              "      <td>...</td>\n",
              "      <td>3.582222</td>\n",
              "      <td>0.174708</td>\n",
              "      <td>105.063613</td>\n",
              "      <td>16.013858</td>\n",
              "      <td>148.940768</td>\n",
              "      <td>31.511339</td>\n",
              "      <td>13.42344</td>\n",
              "      <td>52.49150</td>\n",
              "      <td>berlin</td>\n",
              "      <td>weekends</td>\n",
              "    </tr>\n",
              "    <tr>\n",
              "      <th>1</th>\n",
              "      <td>1</td>\n",
              "      <td>387.491820</td>\n",
              "      <td>Entire home/apt</td>\n",
              "      <td>False</td>\n",
              "      <td>False</td>\n",
              "      <td>6.0</td>\n",
              "      <td>False</td>\n",
              "      <td>0</td>\n",
              "      <td>1</td>\n",
              "      <td>10.0</td>\n",
              "      <td>...</td>\n",
              "      <td>6.082132</td>\n",
              "      <td>0.480956</td>\n",
              "      <td>52.877461</td>\n",
              "      <td>8.059614</td>\n",
              "      <td>66.884920</td>\n",
              "      <td>14.150816</td>\n",
              "      <td>13.50300</td>\n",
              "      <td>52.50900</td>\n",
              "      <td>berlin</td>\n",
              "      <td>weekends</td>\n",
              "    </tr>\n",
              "    <tr>\n",
              "      <th>2</th>\n",
              "      <td>2</td>\n",
              "      <td>194.914462</td>\n",
              "      <td>Private room</td>\n",
              "      <td>False</td>\n",
              "      <td>True</td>\n",
              "      <td>5.0</td>\n",
              "      <td>False</td>\n",
              "      <td>0</td>\n",
              "      <td>1</td>\n",
              "      <td>9.0</td>\n",
              "      <td>...</td>\n",
              "      <td>3.525398</td>\n",
              "      <td>0.511928</td>\n",
              "      <td>75.339762</td>\n",
              "      <td>11.483331</td>\n",
              "      <td>106.443168</td>\n",
              "      <td>22.520139</td>\n",
              "      <td>13.46800</td>\n",
              "      <td>52.51900</td>\n",
              "      <td>berlin</td>\n",
              "      <td>weekends</td>\n",
              "    </tr>\n",
              "    <tr>\n",
              "      <th>3</th>\n",
              "      <td>3</td>\n",
              "      <td>171.777134</td>\n",
              "      <td>Private room</td>\n",
              "      <td>False</td>\n",
              "      <td>True</td>\n",
              "      <td>2.0</td>\n",
              "      <td>False</td>\n",
              "      <td>0</td>\n",
              "      <td>0</td>\n",
              "      <td>9.0</td>\n",
              "      <td>...</td>\n",
              "      <td>3.801739</td>\n",
              "      <td>0.281385</td>\n",
              "      <td>73.668908</td>\n",
              "      <td>11.228659</td>\n",
              "      <td>105.438990</td>\n",
              "      <td>22.307685</td>\n",
              "      <td>13.47096</td>\n",
              "      <td>52.51527</td>\n",
              "      <td>berlin</td>\n",
              "      <td>weekends</td>\n",
              "    </tr>\n",
              "    <tr>\n",
              "      <th>4</th>\n",
              "      <td>4</td>\n",
              "      <td>207.768533</td>\n",
              "      <td>Private room</td>\n",
              "      <td>False</td>\n",
              "      <td>True</td>\n",
              "      <td>3.0</td>\n",
              "      <td>True</td>\n",
              "      <td>0</td>\n",
              "      <td>0</td>\n",
              "      <td>10.0</td>\n",
              "      <td>...</td>\n",
              "      <td>0.982405</td>\n",
              "      <td>0.705579</td>\n",
              "      <td>133.187395</td>\n",
              "      <td>20.300502</td>\n",
              "      <td>198.233241</td>\n",
              "      <td>41.940128</td>\n",
              "      <td>13.42281</td>\n",
              "      <td>52.53139</td>\n",
              "      <td>berlin</td>\n",
              "      <td>weekends</td>\n",
              "    </tr>\n",
              "  </tbody>\n",
              "</table>\n",
              "<p>5 rows × 22 columns</p>\n",
              "</div>\n",
              "      <button class=\"colab-df-convert\" onclick=\"convertToInteractive('df-3da286df-b529-4c3a-8e44-ec98ebccda8b')\"\n",
              "              title=\"Convert this dataframe to an interactive table.\"\n",
              "              style=\"display:none;\">\n",
              "        \n",
              "  <svg xmlns=\"http://www.w3.org/2000/svg\" height=\"24px\"viewBox=\"0 0 24 24\"\n",
              "       width=\"24px\">\n",
              "    <path d=\"M0 0h24v24H0V0z\" fill=\"none\"/>\n",
              "    <path d=\"M18.56 5.44l.94 2.06.94-2.06 2.06-.94-2.06-.94-.94-2.06-.94 2.06-2.06.94zm-11 1L8.5 8.5l.94-2.06 2.06-.94-2.06-.94L8.5 2.5l-.94 2.06-2.06.94zm10 10l.94 2.06.94-2.06 2.06-.94-2.06-.94-.94-2.06-.94 2.06-2.06.94z\"/><path d=\"M17.41 7.96l-1.37-1.37c-.4-.4-.92-.59-1.43-.59-.52 0-1.04.2-1.43.59L10.3 9.45l-7.72 7.72c-.78.78-.78 2.05 0 2.83L4 21.41c.39.39.9.59 1.41.59.51 0 1.02-.2 1.41-.59l7.78-7.78 2.81-2.81c.8-.78.8-2.07 0-2.86zM5.41 20L4 18.59l7.72-7.72 1.47 1.35L5.41 20z\"/>\n",
              "  </svg>\n",
              "      </button>\n",
              "      \n",
              "  <style>\n",
              "    .colab-df-container {\n",
              "      display:flex;\n",
              "      flex-wrap:wrap;\n",
              "      gap: 12px;\n",
              "    }\n",
              "\n",
              "    .colab-df-convert {\n",
              "      background-color: #E8F0FE;\n",
              "      border: none;\n",
              "      border-radius: 50%;\n",
              "      cursor: pointer;\n",
              "      display: none;\n",
              "      fill: #1967D2;\n",
              "      height: 32px;\n",
              "      padding: 0 0 0 0;\n",
              "      width: 32px;\n",
              "    }\n",
              "\n",
              "    .colab-df-convert:hover {\n",
              "      background-color: #E2EBFA;\n",
              "      box-shadow: 0px 1px 2px rgba(60, 64, 67, 0.3), 0px 1px 3px 1px rgba(60, 64, 67, 0.15);\n",
              "      fill: #174EA6;\n",
              "    }\n",
              "\n",
              "    [theme=dark] .colab-df-convert {\n",
              "      background-color: #3B4455;\n",
              "      fill: #D2E3FC;\n",
              "    }\n",
              "\n",
              "    [theme=dark] .colab-df-convert:hover {\n",
              "      background-color: #434B5C;\n",
              "      box-shadow: 0px 1px 3px 1px rgba(0, 0, 0, 0.15);\n",
              "      filter: drop-shadow(0px 1px 2px rgba(0, 0, 0, 0.3));\n",
              "      fill: #FFFFFF;\n",
              "    }\n",
              "  </style>\n",
              "\n",
              "      <script>\n",
              "        const buttonEl =\n",
              "          document.querySelector('#df-3da286df-b529-4c3a-8e44-ec98ebccda8b button.colab-df-convert');\n",
              "        buttonEl.style.display =\n",
              "          google.colab.kernel.accessAllowed ? 'block' : 'none';\n",
              "\n",
              "        async function convertToInteractive(key) {\n",
              "          const element = document.querySelector('#df-3da286df-b529-4c3a-8e44-ec98ebccda8b');\n",
              "          const dataTable =\n",
              "            await google.colab.kernel.invokeFunction('convertToInteractive',\n",
              "                                                     [key], {});\n",
              "          if (!dataTable) return;\n",
              "\n",
              "          const docLinkHtml = 'Like what you see? Visit the ' +\n",
              "            '<a target=\"_blank\" href=https://colab.research.google.com/notebooks/data_table.ipynb>data table notebook</a>'\n",
              "            + ' to learn more about interactive tables.';\n",
              "          element.innerHTML = '';\n",
              "          dataTable['output_type'] = 'display_data';\n",
              "          await google.colab.output.renderOutput(dataTable, element);\n",
              "          const docLink = document.createElement('div');\n",
              "          docLink.innerHTML = docLinkHtml;\n",
              "          element.appendChild(docLink);\n",
              "        }\n",
              "      </script>\n",
              "    </div>\n",
              "  </div>\n",
              "  "
            ]
          },
          "metadata": {},
          "execution_count": 303
        }
      ],
      "source": [
        "df.head()"
      ]
    },
    {
      "cell_type": "code",
      "execution_count": 304,
      "metadata": {
        "colab": {
          "base_uri": "https://localhost:8080/"
        },
        "id": "iipPhEPNpnPu",
        "outputId": "7fba1b24-5766-4865-f4f0-7f48652bf4f6"
      },
      "outputs": [
        {
          "output_type": "stream",
          "name": "stdout",
          "text": [
            "<class 'pandas.core.frame.DataFrame'>\n",
            "RangeIndex: 51707 entries, 0 to 51706\n",
            "Data columns (total 22 columns):\n",
            " #   Column                      Non-Null Count  Dtype  \n",
            "---  ------                      --------------  -----  \n",
            " 0   Unnamed: 0                  51707 non-null  int64  \n",
            " 1   realSum                     51707 non-null  float64\n",
            " 2   room_type                   51707 non-null  object \n",
            " 3   room_shared                 51707 non-null  bool   \n",
            " 4   room_private                51707 non-null  bool   \n",
            " 5   person_capacity             51707 non-null  float64\n",
            " 6   host_is_superhost           51707 non-null  bool   \n",
            " 7   multi                       51707 non-null  int64  \n",
            " 8   biz                         51707 non-null  int64  \n",
            " 9   cleanliness_rating          51707 non-null  float64\n",
            " 10  guest_satisfaction_overall  51707 non-null  float64\n",
            " 11  bedrooms                    51707 non-null  int64  \n",
            " 12  dist                        51707 non-null  float64\n",
            " 13  metro_dist                  51707 non-null  float64\n",
            " 14  attr_index                  51707 non-null  float64\n",
            " 15  attr_index_norm             51707 non-null  float64\n",
            " 16  rest_index                  51707 non-null  float64\n",
            " 17  rest_index_norm             51707 non-null  float64\n",
            " 18  lng                         51707 non-null  float64\n",
            " 19  lat                         51707 non-null  float64\n",
            " 20  City                        51707 non-null  object \n",
            " 21  Day Type                    51707 non-null  object \n",
            "dtypes: bool(3), float64(12), int64(4), object(3)\n",
            "memory usage: 7.6+ MB\n"
          ]
        }
      ],
      "source": [
        "df.info()"
      ]
    },
    {
      "cell_type": "code",
      "execution_count": 305,
      "metadata": {
        "colab": {
          "base_uri": "https://localhost:8080/"
        },
        "id": "zneortP4qzP2",
        "outputId": "93bcdc52-75ff-42be-c028-267106e59c93"
      },
      "outputs": [
        {
          "output_type": "execute_result",
          "data": {
            "text/plain": [
              "(51707, 22)"
            ]
          },
          "metadata": {},
          "execution_count": 305
        }
      ],
      "source": [
        "df.shape"
      ]
    },
    {
      "cell_type": "code",
      "execution_count": 306,
      "metadata": {
        "colab": {
          "base_uri": "https://localhost:8080/"
        },
        "id": "BHvSn7vqST3G",
        "outputId": "08a322a7-07d1-4c76-b860-f54616f503ae"
      },
      "outputs": [
        {
          "output_type": "execute_result",
          "data": {
            "text/plain": [
              "Index(['realSum', 'room_type', 'room_shared', 'room_private',\n",
              "       'person_capacity', 'host_is_superhost', 'multi', 'biz',\n",
              "       'cleanliness_rating', 'guest_satisfaction_overall', 'bedrooms', 'dist',\n",
              "       'metro_dist', 'attr_index', 'attr_index_norm', 'rest_index',\n",
              "       'rest_index_norm', 'lng', 'lat', 'City', 'Day Type'],\n",
              "      dtype='object')"
            ]
          },
          "metadata": {},
          "execution_count": 306
        }
      ],
      "source": [
        "#drop columns\n",
        "df = df.drop('Unnamed: 0', axis = 1)\n",
        "df.columns"
      ]
    },
    {
      "cell_type": "code",
      "execution_count": 307,
      "metadata": {
        "colab": {
          "base_uri": "https://localhost:8080/",
          "height": 364
        },
        "id": "mKQb-bUyTYwg",
        "outputId": "a1edf32c-5732-4625-add4-bc467f542e95"
      },
      "outputs": [
        {
          "output_type": "execute_result",
          "data": {
            "text/plain": [
              "            realSum  person_capacity         multi           biz  \\\n",
              "count  51707.000000     51707.000000  51707.000000  51707.000000   \n",
              "mean     279.879591         3.161661      0.291353      0.350204   \n",
              "std      327.948386         1.298545      0.454390      0.477038   \n",
              "min       34.779339         2.000000      0.000000      0.000000   \n",
              "25%      148.752174         2.000000      0.000000      0.000000   \n",
              "50%      211.343089         3.000000      0.000000      0.000000   \n",
              "75%      319.694287         4.000000      1.000000      1.000000   \n",
              "max    18545.450285         6.000000      1.000000      1.000000   \n",
              "\n",
              "       cleanliness_rating  guest_satisfaction_overall     bedrooms  \\\n",
              "count        51707.000000                51707.000000  51707.00000   \n",
              "mean             9.390624                   92.628232      1.15876   \n",
              "std              0.954868                    8.945531      0.62741   \n",
              "min              2.000000                   20.000000      0.00000   \n",
              "25%              9.000000                   90.000000      1.00000   \n",
              "50%             10.000000                   95.000000      1.00000   \n",
              "75%             10.000000                   99.000000      1.00000   \n",
              "max             10.000000                  100.000000     10.00000   \n",
              "\n",
              "               dist    metro_dist    attr_index  attr_index_norm  \\\n",
              "count  51707.000000  51707.000000  51707.000000     51707.000000   \n",
              "mean       3.191285      0.681540    294.204105        13.423792   \n",
              "std        2.393803      0.858023    224.754123         9.807985   \n",
              "min        0.015045      0.002301     15.152201         0.926301   \n",
              "25%        1.453142      0.248480    136.797385         6.380926   \n",
              "50%        2.613538      0.413269    234.331748        11.468305   \n",
              "75%        4.263077      0.737840    385.756381        17.415082   \n",
              "max       25.284557     14.273577   4513.563486       100.000000   \n",
              "\n",
              "         rest_index  rest_index_norm           lng           lat  \n",
              "count  51707.000000     51707.000000  51707.000000  51707.000000  \n",
              "mean     626.856696        22.786177      7.426068     45.671128  \n",
              "std      497.920226        17.804096      9.799725      5.249263  \n",
              "min       19.576924         0.592757     -9.226340     37.953000  \n",
              "25%      250.854114         8.751480     -0.072500     41.399510  \n",
              "50%      522.052783        17.542238      4.873000     47.506690  \n",
              "75%      832.628988        32.964603     13.518825     51.471885  \n",
              "max     6696.156772       100.000000     23.786020     52.641410  "
            ],
            "text/html": [
              "\n",
              "  <div id=\"df-0ffff41f-4ff0-4359-82fe-eeee29059001\">\n",
              "    <div class=\"colab-df-container\">\n",
              "      <div>\n",
              "<style scoped>\n",
              "    .dataframe tbody tr th:only-of-type {\n",
              "        vertical-align: middle;\n",
              "    }\n",
              "\n",
              "    .dataframe tbody tr th {\n",
              "        vertical-align: top;\n",
              "    }\n",
              "\n",
              "    .dataframe thead th {\n",
              "        text-align: right;\n",
              "    }\n",
              "</style>\n",
              "<table border=\"1\" class=\"dataframe\">\n",
              "  <thead>\n",
              "    <tr style=\"text-align: right;\">\n",
              "      <th></th>\n",
              "      <th>realSum</th>\n",
              "      <th>person_capacity</th>\n",
              "      <th>multi</th>\n",
              "      <th>biz</th>\n",
              "      <th>cleanliness_rating</th>\n",
              "      <th>guest_satisfaction_overall</th>\n",
              "      <th>bedrooms</th>\n",
              "      <th>dist</th>\n",
              "      <th>metro_dist</th>\n",
              "      <th>attr_index</th>\n",
              "      <th>attr_index_norm</th>\n",
              "      <th>rest_index</th>\n",
              "      <th>rest_index_norm</th>\n",
              "      <th>lng</th>\n",
              "      <th>lat</th>\n",
              "    </tr>\n",
              "  </thead>\n",
              "  <tbody>\n",
              "    <tr>\n",
              "      <th>count</th>\n",
              "      <td>51707.000000</td>\n",
              "      <td>51707.000000</td>\n",
              "      <td>51707.000000</td>\n",
              "      <td>51707.000000</td>\n",
              "      <td>51707.000000</td>\n",
              "      <td>51707.000000</td>\n",
              "      <td>51707.00000</td>\n",
              "      <td>51707.000000</td>\n",
              "      <td>51707.000000</td>\n",
              "      <td>51707.000000</td>\n",
              "      <td>51707.000000</td>\n",
              "      <td>51707.000000</td>\n",
              "      <td>51707.000000</td>\n",
              "      <td>51707.000000</td>\n",
              "      <td>51707.000000</td>\n",
              "    </tr>\n",
              "    <tr>\n",
              "      <th>mean</th>\n",
              "      <td>279.879591</td>\n",
              "      <td>3.161661</td>\n",
              "      <td>0.291353</td>\n",
              "      <td>0.350204</td>\n",
              "      <td>9.390624</td>\n",
              "      <td>92.628232</td>\n",
              "      <td>1.15876</td>\n",
              "      <td>3.191285</td>\n",
              "      <td>0.681540</td>\n",
              "      <td>294.204105</td>\n",
              "      <td>13.423792</td>\n",
              "      <td>626.856696</td>\n",
              "      <td>22.786177</td>\n",
              "      <td>7.426068</td>\n",
              "      <td>45.671128</td>\n",
              "    </tr>\n",
              "    <tr>\n",
              "      <th>std</th>\n",
              "      <td>327.948386</td>\n",
              "      <td>1.298545</td>\n",
              "      <td>0.454390</td>\n",
              "      <td>0.477038</td>\n",
              "      <td>0.954868</td>\n",
              "      <td>8.945531</td>\n",
              "      <td>0.62741</td>\n",
              "      <td>2.393803</td>\n",
              "      <td>0.858023</td>\n",
              "      <td>224.754123</td>\n",
              "      <td>9.807985</td>\n",
              "      <td>497.920226</td>\n",
              "      <td>17.804096</td>\n",
              "      <td>9.799725</td>\n",
              "      <td>5.249263</td>\n",
              "    </tr>\n",
              "    <tr>\n",
              "      <th>min</th>\n",
              "      <td>34.779339</td>\n",
              "      <td>2.000000</td>\n",
              "      <td>0.000000</td>\n",
              "      <td>0.000000</td>\n",
              "      <td>2.000000</td>\n",
              "      <td>20.000000</td>\n",
              "      <td>0.00000</td>\n",
              "      <td>0.015045</td>\n",
              "      <td>0.002301</td>\n",
              "      <td>15.152201</td>\n",
              "      <td>0.926301</td>\n",
              "      <td>19.576924</td>\n",
              "      <td>0.592757</td>\n",
              "      <td>-9.226340</td>\n",
              "      <td>37.953000</td>\n",
              "    </tr>\n",
              "    <tr>\n",
              "      <th>25%</th>\n",
              "      <td>148.752174</td>\n",
              "      <td>2.000000</td>\n",
              "      <td>0.000000</td>\n",
              "      <td>0.000000</td>\n",
              "      <td>9.000000</td>\n",
              "      <td>90.000000</td>\n",
              "      <td>1.00000</td>\n",
              "      <td>1.453142</td>\n",
              "      <td>0.248480</td>\n",
              "      <td>136.797385</td>\n",
              "      <td>6.380926</td>\n",
              "      <td>250.854114</td>\n",
              "      <td>8.751480</td>\n",
              "      <td>-0.072500</td>\n",
              "      <td>41.399510</td>\n",
              "    </tr>\n",
              "    <tr>\n",
              "      <th>50%</th>\n",
              "      <td>211.343089</td>\n",
              "      <td>3.000000</td>\n",
              "      <td>0.000000</td>\n",
              "      <td>0.000000</td>\n",
              "      <td>10.000000</td>\n",
              "      <td>95.000000</td>\n",
              "      <td>1.00000</td>\n",
              "      <td>2.613538</td>\n",
              "      <td>0.413269</td>\n",
              "      <td>234.331748</td>\n",
              "      <td>11.468305</td>\n",
              "      <td>522.052783</td>\n",
              "      <td>17.542238</td>\n",
              "      <td>4.873000</td>\n",
              "      <td>47.506690</td>\n",
              "    </tr>\n",
              "    <tr>\n",
              "      <th>75%</th>\n",
              "      <td>319.694287</td>\n",
              "      <td>4.000000</td>\n",
              "      <td>1.000000</td>\n",
              "      <td>1.000000</td>\n",
              "      <td>10.000000</td>\n",
              "      <td>99.000000</td>\n",
              "      <td>1.00000</td>\n",
              "      <td>4.263077</td>\n",
              "      <td>0.737840</td>\n",
              "      <td>385.756381</td>\n",
              "      <td>17.415082</td>\n",
              "      <td>832.628988</td>\n",
              "      <td>32.964603</td>\n",
              "      <td>13.518825</td>\n",
              "      <td>51.471885</td>\n",
              "    </tr>\n",
              "    <tr>\n",
              "      <th>max</th>\n",
              "      <td>18545.450285</td>\n",
              "      <td>6.000000</td>\n",
              "      <td>1.000000</td>\n",
              "      <td>1.000000</td>\n",
              "      <td>10.000000</td>\n",
              "      <td>100.000000</td>\n",
              "      <td>10.00000</td>\n",
              "      <td>25.284557</td>\n",
              "      <td>14.273577</td>\n",
              "      <td>4513.563486</td>\n",
              "      <td>100.000000</td>\n",
              "      <td>6696.156772</td>\n",
              "      <td>100.000000</td>\n",
              "      <td>23.786020</td>\n",
              "      <td>52.641410</td>\n",
              "    </tr>\n",
              "  </tbody>\n",
              "</table>\n",
              "</div>\n",
              "      <button class=\"colab-df-convert\" onclick=\"convertToInteractive('df-0ffff41f-4ff0-4359-82fe-eeee29059001')\"\n",
              "              title=\"Convert this dataframe to an interactive table.\"\n",
              "              style=\"display:none;\">\n",
              "        \n",
              "  <svg xmlns=\"http://www.w3.org/2000/svg\" height=\"24px\"viewBox=\"0 0 24 24\"\n",
              "       width=\"24px\">\n",
              "    <path d=\"M0 0h24v24H0V0z\" fill=\"none\"/>\n",
              "    <path d=\"M18.56 5.44l.94 2.06.94-2.06 2.06-.94-2.06-.94-.94-2.06-.94 2.06-2.06.94zm-11 1L8.5 8.5l.94-2.06 2.06-.94-2.06-.94L8.5 2.5l-.94 2.06-2.06.94zm10 10l.94 2.06.94-2.06 2.06-.94-2.06-.94-.94-2.06-.94 2.06-2.06.94z\"/><path d=\"M17.41 7.96l-1.37-1.37c-.4-.4-.92-.59-1.43-.59-.52 0-1.04.2-1.43.59L10.3 9.45l-7.72 7.72c-.78.78-.78 2.05 0 2.83L4 21.41c.39.39.9.59 1.41.59.51 0 1.02-.2 1.41-.59l7.78-7.78 2.81-2.81c.8-.78.8-2.07 0-2.86zM5.41 20L4 18.59l7.72-7.72 1.47 1.35L5.41 20z\"/>\n",
              "  </svg>\n",
              "      </button>\n",
              "      \n",
              "  <style>\n",
              "    .colab-df-container {\n",
              "      display:flex;\n",
              "      flex-wrap:wrap;\n",
              "      gap: 12px;\n",
              "    }\n",
              "\n",
              "    .colab-df-convert {\n",
              "      background-color: #E8F0FE;\n",
              "      border: none;\n",
              "      border-radius: 50%;\n",
              "      cursor: pointer;\n",
              "      display: none;\n",
              "      fill: #1967D2;\n",
              "      height: 32px;\n",
              "      padding: 0 0 0 0;\n",
              "      width: 32px;\n",
              "    }\n",
              "\n",
              "    .colab-df-convert:hover {\n",
              "      background-color: #E2EBFA;\n",
              "      box-shadow: 0px 1px 2px rgba(60, 64, 67, 0.3), 0px 1px 3px 1px rgba(60, 64, 67, 0.15);\n",
              "      fill: #174EA6;\n",
              "    }\n",
              "\n",
              "    [theme=dark] .colab-df-convert {\n",
              "      background-color: #3B4455;\n",
              "      fill: #D2E3FC;\n",
              "    }\n",
              "\n",
              "    [theme=dark] .colab-df-convert:hover {\n",
              "      background-color: #434B5C;\n",
              "      box-shadow: 0px 1px 3px 1px rgba(0, 0, 0, 0.15);\n",
              "      filter: drop-shadow(0px 1px 2px rgba(0, 0, 0, 0.3));\n",
              "      fill: #FFFFFF;\n",
              "    }\n",
              "  </style>\n",
              "\n",
              "      <script>\n",
              "        const buttonEl =\n",
              "          document.querySelector('#df-0ffff41f-4ff0-4359-82fe-eeee29059001 button.colab-df-convert');\n",
              "        buttonEl.style.display =\n",
              "          google.colab.kernel.accessAllowed ? 'block' : 'none';\n",
              "\n",
              "        async function convertToInteractive(key) {\n",
              "          const element = document.querySelector('#df-0ffff41f-4ff0-4359-82fe-eeee29059001');\n",
              "          const dataTable =\n",
              "            await google.colab.kernel.invokeFunction('convertToInteractive',\n",
              "                                                     [key], {});\n",
              "          if (!dataTable) return;\n",
              "\n",
              "          const docLinkHtml = 'Like what you see? Visit the ' +\n",
              "            '<a target=\"_blank\" href=https://colab.research.google.com/notebooks/data_table.ipynb>data table notebook</a>'\n",
              "            + ' to learn more about interactive tables.';\n",
              "          element.innerHTML = '';\n",
              "          dataTable['output_type'] = 'display_data';\n",
              "          await google.colab.output.renderOutput(dataTable, element);\n",
              "          const docLink = document.createElement('div');\n",
              "          docLink.innerHTML = docLinkHtml;\n",
              "          element.appendChild(docLink);\n",
              "        }\n",
              "      </script>\n",
              "    </div>\n",
              "  </div>\n",
              "  "
            ]
          },
          "metadata": {},
          "execution_count": 307
        }
      ],
      "source": [
        "#describe df\n",
        "df.describe()"
      ]
    },
    {
      "cell_type": "code",
      "execution_count": 308,
      "metadata": {
        "colab": {
          "base_uri": "https://localhost:8080/"
        },
        "id": "-dXVO77gTfjS",
        "outputId": "bcf281ae-995a-4da3-ec37-9a463e6f61e9"
      },
      "outputs": [
        {
          "output_type": "execute_result",
          "data": {
            "text/plain": [
              "realSum                       0\n",
              "room_type                     0\n",
              "room_shared                   0\n",
              "room_private                  0\n",
              "person_capacity               0\n",
              "host_is_superhost             0\n",
              "multi                         0\n",
              "biz                           0\n",
              "cleanliness_rating            0\n",
              "guest_satisfaction_overall    0\n",
              "bedrooms                      0\n",
              "dist                          0\n",
              "metro_dist                    0\n",
              "attr_index                    0\n",
              "attr_index_norm               0\n",
              "rest_index                    0\n",
              "rest_index_norm               0\n",
              "lng                           0\n",
              "lat                           0\n",
              "City                          0\n",
              "Day Type                      0\n",
              "dtype: int64"
            ]
          },
          "metadata": {},
          "execution_count": 308
        }
      ],
      "source": [
        "#Check NA\n",
        "df.isna().sum()"
      ]
    },
    {
      "cell_type": "code",
      "execution_count": 309,
      "metadata": {
        "colab": {
          "base_uri": "https://localhost:8080/",
          "height": 160
        },
        "id": "E4ERcE7ATi7t",
        "outputId": "8af41be5-bfdb-415b-f614-fa4d71dd335a"
      },
      "outputs": [
        {
          "output_type": "execute_result",
          "data": {
            "text/plain": [
              "Empty DataFrame\n",
              "Columns: [realSum, room_type, room_shared, room_private, person_capacity, host_is_superhost, multi, biz, cleanliness_rating, guest_satisfaction_overall, bedrooms, dist, metro_dist, attr_index, attr_index_norm, rest_index, rest_index_norm, lng, lat, City, Day Type]\n",
              "Index: []\n",
              "\n",
              "[0 rows x 21 columns]"
            ],
            "text/html": [
              "\n",
              "  <div id=\"df-ef08bf25-8545-4133-a1ec-6b6f8a6bb918\">\n",
              "    <div class=\"colab-df-container\">\n",
              "      <div>\n",
              "<style scoped>\n",
              "    .dataframe tbody tr th:only-of-type {\n",
              "        vertical-align: middle;\n",
              "    }\n",
              "\n",
              "    .dataframe tbody tr th {\n",
              "        vertical-align: top;\n",
              "    }\n",
              "\n",
              "    .dataframe thead th {\n",
              "        text-align: right;\n",
              "    }\n",
              "</style>\n",
              "<table border=\"1\" class=\"dataframe\">\n",
              "  <thead>\n",
              "    <tr style=\"text-align: right;\">\n",
              "      <th></th>\n",
              "      <th>realSum</th>\n",
              "      <th>room_type</th>\n",
              "      <th>room_shared</th>\n",
              "      <th>room_private</th>\n",
              "      <th>person_capacity</th>\n",
              "      <th>host_is_superhost</th>\n",
              "      <th>multi</th>\n",
              "      <th>biz</th>\n",
              "      <th>cleanliness_rating</th>\n",
              "      <th>guest_satisfaction_overall</th>\n",
              "      <th>...</th>\n",
              "      <th>dist</th>\n",
              "      <th>metro_dist</th>\n",
              "      <th>attr_index</th>\n",
              "      <th>attr_index_norm</th>\n",
              "      <th>rest_index</th>\n",
              "      <th>rest_index_norm</th>\n",
              "      <th>lng</th>\n",
              "      <th>lat</th>\n",
              "      <th>City</th>\n",
              "      <th>Day Type</th>\n",
              "    </tr>\n",
              "  </thead>\n",
              "  <tbody>\n",
              "  </tbody>\n",
              "</table>\n",
              "<p>0 rows × 21 columns</p>\n",
              "</div>\n",
              "      <button class=\"colab-df-convert\" onclick=\"convertToInteractive('df-ef08bf25-8545-4133-a1ec-6b6f8a6bb918')\"\n",
              "              title=\"Convert this dataframe to an interactive table.\"\n",
              "              style=\"display:none;\">\n",
              "        \n",
              "  <svg xmlns=\"http://www.w3.org/2000/svg\" height=\"24px\"viewBox=\"0 0 24 24\"\n",
              "       width=\"24px\">\n",
              "    <path d=\"M0 0h24v24H0V0z\" fill=\"none\"/>\n",
              "    <path d=\"M18.56 5.44l.94 2.06.94-2.06 2.06-.94-2.06-.94-.94-2.06-.94 2.06-2.06.94zm-11 1L8.5 8.5l.94-2.06 2.06-.94-2.06-.94L8.5 2.5l-.94 2.06-2.06.94zm10 10l.94 2.06.94-2.06 2.06-.94-2.06-.94-.94-2.06-.94 2.06-2.06.94z\"/><path d=\"M17.41 7.96l-1.37-1.37c-.4-.4-.92-.59-1.43-.59-.52 0-1.04.2-1.43.59L10.3 9.45l-7.72 7.72c-.78.78-.78 2.05 0 2.83L4 21.41c.39.39.9.59 1.41.59.51 0 1.02-.2 1.41-.59l7.78-7.78 2.81-2.81c.8-.78.8-2.07 0-2.86zM5.41 20L4 18.59l7.72-7.72 1.47 1.35L5.41 20z\"/>\n",
              "  </svg>\n",
              "      </button>\n",
              "      \n",
              "  <style>\n",
              "    .colab-df-container {\n",
              "      display:flex;\n",
              "      flex-wrap:wrap;\n",
              "      gap: 12px;\n",
              "    }\n",
              "\n",
              "    .colab-df-convert {\n",
              "      background-color: #E8F0FE;\n",
              "      border: none;\n",
              "      border-radius: 50%;\n",
              "      cursor: pointer;\n",
              "      display: none;\n",
              "      fill: #1967D2;\n",
              "      height: 32px;\n",
              "      padding: 0 0 0 0;\n",
              "      width: 32px;\n",
              "    }\n",
              "\n",
              "    .colab-df-convert:hover {\n",
              "      background-color: #E2EBFA;\n",
              "      box-shadow: 0px 1px 2px rgba(60, 64, 67, 0.3), 0px 1px 3px 1px rgba(60, 64, 67, 0.15);\n",
              "      fill: #174EA6;\n",
              "    }\n",
              "\n",
              "    [theme=dark] .colab-df-convert {\n",
              "      background-color: #3B4455;\n",
              "      fill: #D2E3FC;\n",
              "    }\n",
              "\n",
              "    [theme=dark] .colab-df-convert:hover {\n",
              "      background-color: #434B5C;\n",
              "      box-shadow: 0px 1px 3px 1px rgba(0, 0, 0, 0.15);\n",
              "      filter: drop-shadow(0px 1px 2px rgba(0, 0, 0, 0.3));\n",
              "      fill: #FFFFFF;\n",
              "    }\n",
              "  </style>\n",
              "\n",
              "      <script>\n",
              "        const buttonEl =\n",
              "          document.querySelector('#df-ef08bf25-8545-4133-a1ec-6b6f8a6bb918 button.colab-df-convert');\n",
              "        buttonEl.style.display =\n",
              "          google.colab.kernel.accessAllowed ? 'block' : 'none';\n",
              "\n",
              "        async function convertToInteractive(key) {\n",
              "          const element = document.querySelector('#df-ef08bf25-8545-4133-a1ec-6b6f8a6bb918');\n",
              "          const dataTable =\n",
              "            await google.colab.kernel.invokeFunction('convertToInteractive',\n",
              "                                                     [key], {});\n",
              "          if (!dataTable) return;\n",
              "\n",
              "          const docLinkHtml = 'Like what you see? Visit the ' +\n",
              "            '<a target=\"_blank\" href=https://colab.research.google.com/notebooks/data_table.ipynb>data table notebook</a>'\n",
              "            + ' to learn more about interactive tables.';\n",
              "          element.innerHTML = '';\n",
              "          dataTable['output_type'] = 'display_data';\n",
              "          await google.colab.output.renderOutput(dataTable, element);\n",
              "          const docLink = document.createElement('div');\n",
              "          docLink.innerHTML = docLinkHtml;\n",
              "          element.appendChild(docLink);\n",
              "        }\n",
              "      </script>\n",
              "    </div>\n",
              "  </div>\n",
              "  "
            ]
          },
          "metadata": {},
          "execution_count": 309
        }
      ],
      "source": [
        "#Check duplicated\n",
        "df[df.duplicated()]"
      ]
    },
    {
      "cell_type": "code",
      "execution_count": 310,
      "metadata": {
        "colab": {
          "base_uri": "https://localhost:8080/"
        },
        "id": "t-UBm4EtVPyq",
        "outputId": "6fe41872-bfde-42f1-cd66-f4ad5bdc7aac"
      },
      "outputs": [
        {
          "output_type": "execute_result",
          "data": {
            "text/plain": [
              "array(['Private room', 'Entire home/apt', 'Shared room'], dtype=object)"
            ]
          },
          "metadata": {},
          "execution_count": 310
        }
      ],
      "source": [
        "#Validation Checking\n",
        "df['room_type'].unique()"
      ]
    },
    {
      "cell_type": "code",
      "execution_count": 311,
      "metadata": {
        "colab": {
          "base_uri": "https://localhost:8080/"
        },
        "id": "pZtDyhJWVZI1",
        "outputId": "b9f98b02-c5d1-4ab9-92f6-143009ea39d7"
      },
      "outputs": [
        {
          "output_type": "execute_result",
          "data": {
            "text/plain": [
              "array(['berlin', 'london', 'barcelona', 'athens', 'lisbon', 'budapest',\n",
              "       'amsterdam', 'rome', 'paris', 'vienna'], dtype=object)"
            ]
          },
          "metadata": {},
          "execution_count": 311
        }
      ],
      "source": [
        "#Validation Checking\n",
        "df['City'].unique()"
      ]
    },
    {
      "cell_type": "code",
      "execution_count": 312,
      "metadata": {
        "colab": {
          "base_uri": "https://localhost:8080/"
        },
        "id": "XngpHPBpVeMj",
        "outputId": "06388c21-50ae-465b-a7e7-300ca84a41ff"
      },
      "outputs": [
        {
          "output_type": "execute_result",
          "data": {
            "text/plain": [
              "array(['weekends', 'weekdays'], dtype=object)"
            ]
          },
          "metadata": {},
          "execution_count": 312
        }
      ],
      "source": [
        "#Validation Checking\n",
        "df['Day Type'].unique()"
      ]
    },
    {
      "cell_type": "markdown",
      "metadata": {
        "id": "uIDjqB1pVzCJ"
      },
      "source": [
        "Outlier"
      ]
    },
    {
      "cell_type": "code",
      "execution_count": 313,
      "metadata": {
        "colab": {
          "base_uri": "https://localhost:8080/",
          "height": 668
        },
        "id": "Mxil1WOBSgfm",
        "outputId": "1859919a-e7f7-444d-b18f-cb28ae1cb02b"
      },
      "outputs": [
        {
          "output_type": "stream",
          "name": "stderr",
          "text": [
            "<ipython-input-313-a11b52850a93>:1: UserWarning: \n",
            "\n",
            "`distplot` is a deprecated function and will be removed in seaborn v0.14.0.\n",
            "\n",
            "Please adapt your code to use either `displot` (a figure-level function with\n",
            "similar flexibility) or `histplot` (an axes-level function for histograms).\n",
            "\n",
            "For a guide to updating your code to use the new functions, please see\n",
            "https://gist.github.com/mwaskom/de44147ed2974457ad6372750bbe5751\n",
            "\n",
            "  sns.distplot(df.realSum)\n"
          ]
        },
        {
          "output_type": "execute_result",
          "data": {
            "text/plain": [
              "<Axes: xlabel='realSum', ylabel='Density'>"
            ]
          },
          "metadata": {},
          "execution_count": 313
        },
        {
          "output_type": "display_data",
          "data": {
            "text/plain": [
              "<Figure size 640x480 with 1 Axes>"
            ],
            "image/png": "[encoded data removed]"
          },
          "metadata": {}
        }
      ],
      "source": [
        "sns.distplot(df.realSum)"
      ]
    },
    {
      "cell_type": "code",
      "execution_count": 314,
      "metadata": {
        "colab": {
          "base_uri": "https://localhost:8080/",
          "height": 467
        },
        "id": "qW0Y7P18TCuU",
        "outputId": "234b5af3-f46f-406a-fe94-6518c33ead3d"
      },
      "outputs": [
        {
          "output_type": "execute_result",
          "data": {
            "text/plain": [
              "<Axes: xlabel='realSum', ylabel='Count'>"
            ]
          },
          "metadata": {},
          "execution_count": 314
        },
        {
          "output_type": "display_data",
          "data": {
            "text/plain": [
              "<Figure size 640x480 with 1 Axes>"
            ],
            "image/png": "[encoded data removed]"
          },
          "metadata": {}
        }
      ],
      "source": [
        "sns.histplot(df.realSum)"
      ]
    },
    {
      "cell_type": "code",
      "execution_count": 315,
      "metadata": {
        "id": "GH_TyNYAXHLq",
        "colab": {
          "base_uri": "https://localhost:8080/",
          "height": 467
        },
        "outputId": "bf26b45d-5696-40f4-9faf-e1df72800ccd"
      },
      "outputs": [
        {
          "output_type": "execute_result",
          "data": {
            "text/plain": [
              "<Axes: xlabel='City', ylabel='realSum'>"
            ]
          },
          "metadata": {},
          "execution_count": 315
        },
        {
          "output_type": "display_data",
          "data": {
            "text/plain": [
              "<Figure size 640x480 with 1 Axes>"
            ],
            "image/png": "[encoded data removed]"
          },
          "metadata": {}
        }
      ],
      "source": [
        "sns.boxplot(x = 'City', y = 'realSum', data = df)"
      ]
    },
    {
      "cell_type": "code",
      "execution_count": 316,
      "metadata": {
        "id": "Zk0B4aD3TI5U",
        "colab": {
          "base_uri": "https://localhost:8080/"
        },
        "outputId": "90c8020a-d7b4-45c6-bf18-c1e92bf92225"
      },
      "outputs": [
        {
          "output_type": "stream",
          "name": "stdout",
          "text": [
            "Q1 : 148.75\n",
            "Q3 : 319.69\n"
          ]
        }
      ],
      "source": [
        "# Find Q1 & Q3 because realSum indicated has outlier\n",
        "Q1 = df.realSum.quantile(0.25)\n",
        "Q3 = df.realSum.quantile(0.75)\n",
        "\n",
        "print(f\"Q1 : {Q1:.2f}\")\n",
        "print(f\"Q3 : {Q3:.2f}\")"
      ]
    },
    {
      "cell_type": "code",
      "execution_count": 317,
      "metadata": {
        "id": "k5VQOM3pW29W",
        "colab": {
          "base_uri": "https://localhost:8080/"
        },
        "outputId": "7675a848-a6f4-4435-93c6-651f3813dd77"
      },
      "outputs": [
        {
          "output_type": "stream",
          "name": "stdout",
          "text": [
            "IQR : 170.94\n",
            "Maximum Boundary : 576.11\n"
          ]
        }
      ],
      "source": [
        "# Find IQR and Maximum Boundary\n",
        "IQR = Q3 - Q1\n",
        "max_bound = Q3 + 1.5*IQR\n",
        "\n",
        "print(f\"IQR : {IQR:.2f}\")\n",
        "print(f\"Maximum Boundary : {max_bound:.2f}\")"
      ]
    },
    {
      "cell_type": "code",
      "execution_count": 318,
      "metadata": {
        "id": "WD4X3_TDgsp8",
        "colab": {
          "base_uri": "https://localhost:8080/",
          "height": 449
        },
        "outputId": "0ceaf42d-6135-4bf4-bca5-ef7b265093cc"
      },
      "outputs": [
        {
          "output_type": "display_data",
          "data": {
            "text/plain": [
              "<Figure size 640x480 with 1 Axes>"
            ],
            "image/png": "[encoded data removed]"
          },
          "metadata": {}
        }
      ],
      "source": [
        "sns.boxplot(x = df.realSum)\n",
        "plt.show()"
      ]
    },
    {
      "cell_type": "code",
      "execution_count": 319,
      "metadata": {
        "id": "AsZDNvFQes5u"
      },
      "outputs": [],
      "source": [
        "# Filter without outlier and adding data\n",
        "df_1 = df[df[\"realSum\"] < max_bound + 423.89]"
      ]
    },
    {
      "cell_type": "code",
      "execution_count": 320,
      "metadata": {
        "colab": {
          "base_uri": "https://localhost:8080/",
          "height": 467
        },
        "id": "oLJ-5rFve_Nw",
        "outputId": "d8b74e8c-a8c2-4d93-d5a4-24189ebbb8de"
      },
      "outputs": [
        {
          "output_type": "execute_result",
          "data": {
            "text/plain": [
              "<Axes: xlabel='realSum', ylabel='Count'>"
            ]
          },
          "metadata": {},
          "execution_count": 320
        },
        {
          "output_type": "display_data",
          "data": {
            "text/plain": [
              "<Figure size 640x480 with 1 Axes>"
            ],
            "image/png": "[encoded data removed]"
          },
          "metadata": {}
        }
      ],
      "source": [
        "sns.histplot(df_1.realSum)"
      ]
    },
    {
      "cell_type": "code",
      "execution_count": 321,
      "metadata": {
        "colab": {
          "base_uri": "https://localhost:8080/",
          "height": 449
        },
        "id": "3nzoc5E1fKri",
        "outputId": "a33d792d-3683-4bed-e70a-b9b9e744515b"
      },
      "outputs": [
        {
          "output_type": "display_data",
          "data": {
            "text/plain": [
              "<Figure size 640x480 with 1 Axes>"
            ],
            "image/png": "[encoded data removed]"
          },
          "metadata": {}
        }
      ],
      "source": [
        "sns.boxplot(x = df_1.realSum)\n",
        "plt.show()"
      ]
    },
    {
      "cell_type": "code",
      "execution_count": 322,
      "metadata": {
        "colab": {
          "base_uri": "https://localhost:8080/",
          "height": 432
        },
        "id": "qKOrPofqg6GI",
        "outputId": "7c39a283-2398-4c59-d205-83983da3fbfb"
      },
      "outputs": [
        {
          "output_type": "display_data",
          "data": {
            "text/plain": [
              "<Figure size 1400x500 with 1 Axes>"
            ],
            "image/png": "[encoded data removed]"
          },
          "metadata": {}
        }
      ],
      "source": [
        "plt.figure(figsize=(14,5))\n",
        "sns.boxplot(x = 'City',\n",
        "            y = 'realSum',\n",
        "            data = df_1)\n",
        "plt.show()"
      ]
    },
    {
      "cell_type": "code",
      "execution_count": 323,
      "metadata": {
        "colab": {
          "base_uri": "https://localhost:8080/",
          "height": 432
        },
        "id": "T-VqyYuihGX3",
        "outputId": "a2f75fea-7e15-4130-ba1f-187119a9efea"
      },
      "outputs": [
        {
          "output_type": "display_data",
          "data": {
            "text/plain": [
              "<Figure size 1400x500 with 1 Axes>"
            ],
            "image/png": "[encoded data removed]"
          },
          "metadata": {}
        }
      ],
      "source": [
        "plt.figure(figsize=(14,5))\n",
        "sns.boxplot(x='City',y='realSum',data=df_1,hue='Day Type')\n",
        "plt.show()"
      ]
    },
    {
      "cell_type": "code",
      "execution_count": 324,
      "metadata": {
        "colab": {
          "base_uri": "https://localhost:8080/",
          "height": 386
        },
        "id": "X7mBA-Xe5m32",
        "outputId": "897cdeb4-2337-4494-f930-a6cace5e878f"
      },
      "outputs": [
        {
          "output_type": "execute_result",
          "data": {
            "text/plain": [
              "      realSum        room_type  room_shared  room_private  person_capacity  \\\n",
              "0  185.799757     Private room        False          True              2.0   \n",
              "1  387.491820  Entire home/apt        False         False              6.0   \n",
              "2  194.914462     Private room        False          True              5.0   \n",
              "3  171.777134     Private room        False          True              2.0   \n",
              "4  207.768533     Private room        False          True              3.0   \n",
              "\n",
              "   host_is_superhost  multi  biz  cleanliness_rating  \\\n",
              "0               True      0    0                10.0   \n",
              "1              False      0    1                10.0   \n",
              "2              False      0    1                 9.0   \n",
              "3              False      0    0                 9.0   \n",
              "4               True      0    0                10.0   \n",
              "\n",
              "   guest_satisfaction_overall  ...      dist  metro_dist  attr_index  \\\n",
              "0                        98.0  ...  3.582222    0.174708  105.063613   \n",
              "1                        93.0  ...  6.082132    0.480956   52.877461   \n",
              "2                        86.0  ...  3.525398    0.511928   75.339762   \n",
              "3                        91.0  ...  3.801739    0.281385   73.668908   \n",
              "4                        97.0  ...  0.982405    0.705579  133.187395   \n",
              "\n",
              "   attr_index_norm  rest_index  rest_index_norm       lng       lat    City  \\\n",
              "0        16.013858  148.940768        31.511339  13.42344  52.49150  berlin   \n",
              "1         8.059614   66.884920        14.150816  13.50300  52.50900  berlin   \n",
              "2        11.483331  106.443168        22.520139  13.46800  52.51900  berlin   \n",
              "3        11.228659  105.438990        22.307685  13.47096  52.51527  berlin   \n",
              "4        20.300502  198.233241        41.940128  13.42281  52.53139  berlin   \n",
              "\n",
              "   Day Type  \n",
              "0  weekends  \n",
              "1  weekends  \n",
              "2  weekends  \n",
              "3  weekends  \n",
              "4  weekends  \n",
              "\n",
              "[5 rows x 21 columns]"
            ],
            "text/html": [
              "\n",
              "  <div id=\"df-52d16832-b8b3-4bcf-9afe-3c442c2e4712\">\n",
              "    <div class=\"colab-df-container\">\n",
              "      <div>\n",
              "<style scoped>\n",
              "    .dataframe tbody tr th:only-of-type {\n",
              "        vertical-align: middle;\n",
              "    }\n",
              "\n",
              "    .dataframe tbody tr th {\n",
              "        vertical-align: top;\n",
              "    }\n",
              "\n",
              "    .dataframe thead th {\n",
              "        text-align: right;\n",
              "    }\n",
              "</style>\n",
              "<table border=\"1\" class=\"dataframe\">\n",
              "  <thead>\n",
              "    <tr style=\"text-align: right;\">\n",
              "      <th></th>\n",
              "      <th>realSum</th>\n",
              "      <th>room_type</th>\n",
              "      <th>room_shared</th>\n",
              "      <th>room_private</th>\n",
              "      <th>person_capacity</th>\n",
              "      <th>host_is_superhost</th>\n",
              "      <th>multi</th>\n",
              "      <th>biz</th>\n",
              "      <th>cleanliness_rating</th>\n",
              "      <th>guest_satisfaction_overall</th>\n",
              "      <th>...</th>\n",
              "      <th>dist</th>\n",
              "      <th>metro_dist</th>\n",
              "      <th>attr_index</th>\n",
              "      <th>attr_index_norm</th>\n",
              "      <th>rest_index</th>\n",
              "      <th>rest_index_norm</th>\n",
              "      <th>lng</th>\n",
              "      <th>lat</th>\n",
              "      <th>City</th>\n",
              "      <th>Day Type</th>\n",
              "    </tr>\n",
              "  </thead>\n",
              "  <tbody>\n",
              "    <tr>\n",
              "      <th>0</th>\n",
              "      <td>185.799757</td>\n",
              "      <td>Private room</td>\n",
              "      <td>False</td>\n",
              "      <td>True</td>\n",
              "      <td>2.0</td>\n",
              "      <td>True</td>\n",
              "      <td>0</td>\n",
              "      <td>0</td>\n",
              "      <td>10.0</td>\n",
              "      <td>98.0</td>\n",
              "      <td>...</td>\n",
              "      <td>3.582222</td>\n",
              "      <td>0.174708</td>\n",
              "      <td>105.063613</td>\n",
              "      <td>16.013858</td>\n",
              "      <td>148.940768</td>\n",
              "      <td>31.511339</td>\n",
              "      <td>13.42344</td>\n",
              "      <td>52.49150</td>\n",
              "      <td>berlin</td>\n",
              "      <td>weekends</td>\n",
              "    </tr>\n",
              "    <tr>\n",
              "      <th>1</th>\n",
              "      <td>387.491820</td>\n",
              "      <td>Entire home/apt</td>\n",
              "      <td>False</td>\n",
              "      <td>False</td>\n",
              "      <td>6.0</td>\n",
              "      <td>False</td>\n",
              "      <td>0</td>\n",
              "      <td>1</td>\n",
              "      <td>10.0</td>\n",
              "      <td>93.0</td>\n",
              "      <td>...</td>\n",
              "      <td>6.082132</td>\n",
              "      <td>0.480956</td>\n",
              "      <td>52.877461</td>\n",
              "      <td>8.059614</td>\n",
              "      <td>66.884920</td>\n",
              "      <td>14.150816</td>\n",
              "      <td>13.50300</td>\n",
              "      <td>52.50900</td>\n",
              "      <td>berlin</td>\n",
              "      <td>weekends</td>\n",
              "    </tr>\n",
              "    <tr>\n",
              "      <th>2</th>\n",
              "      <td>194.914462</td>\n",
              "      <td>Private room</td>\n",
              "      <td>False</td>\n",
              "      <td>True</td>\n",
              "      <td>5.0</td>\n",
              "      <td>False</td>\n",
              "      <td>0</td>\n",
              "      <td>1</td>\n",
              "      <td>9.0</td>\n",
              "      <td>86.0</td>\n",
              "      <td>...</td>\n",
              "      <td>3.525398</td>\n",
              "      <td>0.511928</td>\n",
              "      <td>75.339762</td>\n",
              "      <td>11.483331</td>\n",
              "      <td>106.443168</td>\n",
              "      <td>22.520139</td>\n",
              "      <td>13.46800</td>\n",
              "      <td>52.51900</td>\n",
              "      <td>berlin</td>\n",
              "      <td>weekends</td>\n",
              "    </tr>\n",
              "    <tr>\n",
              "      <th>3</th>\n",
              "      <td>171.777134</td>\n",
              "      <td>Private room</td>\n",
              "      <td>False</td>\n",
              "      <td>True</td>\n",
              "      <td>2.0</td>\n",
              "      <td>False</td>\n",
              "      <td>0</td>\n",
              "      <td>0</td>\n",
              "      <td>9.0</td>\n",
              "      <td>91.0</td>\n",
              "      <td>...</td>\n",
              "      <td>3.801739</td>\n",
              "      <td>0.281385</td>\n",
              "      <td>73.668908</td>\n",
              "      <td>11.228659</td>\n",
              "      <td>105.438990</td>\n",
              "      <td>22.307685</td>\n",
              "      <td>13.47096</td>\n",
              "      <td>52.51527</td>\n",
              "      <td>berlin</td>\n",
              "      <td>weekends</td>\n",
              "    </tr>\n",
              "    <tr>\n",
              "      <th>4</th>\n",
              "      <td>207.768533</td>\n",
              "      <td>Private room</td>\n",
              "      <td>False</td>\n",
              "      <td>True</td>\n",
              "      <td>3.0</td>\n",
              "      <td>True</td>\n",
              "      <td>0</td>\n",
              "      <td>0</td>\n",
              "      <td>10.0</td>\n",
              "      <td>97.0</td>\n",
              "      <td>...</td>\n",
              "      <td>0.982405</td>\n",
              "      <td>0.705579</td>\n",
              "      <td>133.187395</td>\n",
              "      <td>20.300502</td>\n",
              "      <td>198.233241</td>\n",
              "      <td>41.940128</td>\n",
              "      <td>13.42281</td>\n",
              "      <td>52.53139</td>\n",
              "      <td>berlin</td>\n",
              "      <td>weekends</td>\n",
              "    </tr>\n",
              "  </tbody>\n",
              "</table>\n",
              "<p>5 rows × 21 columns</p>\n",
              "</div>\n",
              "      <button class=\"colab-df-convert\" onclick=\"convertToInteractive('df-52d16832-b8b3-4bcf-9afe-3c442c2e4712')\"\n",
              "              title=\"Convert this dataframe to an interactive table.\"\n",
              "              style=\"display:none;\">\n",
              "        \n",
              "  <svg xmlns=\"http://www.w3.org/2000/svg\" height=\"24px\"viewBox=\"0 0 24 24\"\n",
              "       width=\"24px\">\n",
              "    <path d=\"M0 0h24v24H0V0z\" fill=\"none\"/>\n",
              "    <path d=\"M18.56 5.44l.94 2.06.94-2.06 2.06-.94-2.06-.94-.94-2.06-.94 2.06-2.06.94zm-11 1L8.5 8.5l.94-2.06 2.06-.94-2.06-.94L8.5 2.5l-.94 2.06-2.06.94zm10 10l.94 2.06.94-2.06 2.06-.94-2.06-.94-.94-2.06-.94 2.06-2.06.94z\"/><path d=\"M17.41 7.96l-1.37-1.37c-.4-.4-.92-.59-1.43-.59-.52 0-1.04.2-1.43.59L10.3 9.45l-7.72 7.72c-.78.78-.78 2.05 0 2.83L4 21.41c.39.39.9.59 1.41.59.51 0 1.02-.2 1.41-.59l7.78-7.78 2.81-2.81c.8-.78.8-2.07 0-2.86zM5.41 20L4 18.59l7.72-7.72 1.47 1.35L5.41 20z\"/>\n",
              "  </svg>\n",
              "      </button>\n",
              "      \n",
              "  <style>\n",
              "    .colab-df-container {\n",
              "      display:flex;\n",
              "      flex-wrap:wrap;\n",
              "      gap: 12px;\n",
              "    }\n",
              "\n",
              "    .colab-df-convert {\n",
              "      background-color: #E8F0FE;\n",
              "      border: none;\n",
              "      border-radius: 50%;\n",
              "      cursor: pointer;\n",
              "      display: none;\n",
              "      fill: #1967D2;\n",
              "      height: 32px;\n",
              "      padding: 0 0 0 0;\n",
              "      width: 32px;\n",
              "    }\n",
              "\n",
              "    .colab-df-convert:hover {\n",
              "      background-color: #E2EBFA;\n",
              "      box-shadow: 0px 1px 2px rgba(60, 64, 67, 0.3), 0px 1px 3px 1px rgba(60, 64, 67, 0.15);\n",
              "      fill: #174EA6;\n",
              "    }\n",
              "\n",
              "    [theme=dark] .colab-df-convert {\n",
              "      background-color: #3B4455;\n",
              "      fill: #D2E3FC;\n",
              "    }\n",
              "\n",
              "    [theme=dark] .colab-df-convert:hover {\n",
              "      background-color: #434B5C;\n",
              "      box-shadow: 0px 1px 3px 1px rgba(0, 0, 0, 0.15);\n",
              "      filter: drop-shadow(0px 1px 2px rgba(0, 0, 0, 0.3));\n",
              "      fill: #FFFFFF;\n",
              "    }\n",
              "  </style>\n",
              "\n",
              "      <script>\n",
              "        const buttonEl =\n",
              "          document.querySelector('#df-52d16832-b8b3-4bcf-9afe-3c442c2e4712 button.colab-df-convert');\n",
              "        buttonEl.style.display =\n",
              "          google.colab.kernel.accessAllowed ? 'block' : 'none';\n",
              "\n",
              "        async function convertToInteractive(key) {\n",
              "          const element = document.querySelector('#df-52d16832-b8b3-4bcf-9afe-3c442c2e4712');\n",
              "          const dataTable =\n",
              "            await google.colab.kernel.invokeFunction('convertToInteractive',\n",
              "                                                     [key], {});\n",
              "          if (!dataTable) return;\n",
              "\n",
              "          const docLinkHtml = 'Like what you see? Visit the ' +\n",
              "            '<a target=\"_blank\" href=https://colab.research.google.com/notebooks/data_table.ipynb>data table notebook</a>'\n",
              "            + ' to learn more about interactive tables.';\n",
              "          element.innerHTML = '';\n",
              "          dataTable['output_type'] = 'display_data';\n",
              "          await google.colab.output.renderOutput(dataTable, element);\n",
              "          const docLink = document.createElement('div');\n",
              "          docLink.innerHTML = docLinkHtml;\n",
              "          element.appendChild(docLink);\n",
              "        }\n",
              "      </script>\n",
              "    </div>\n",
              "  </div>\n",
              "  "
            ]
          },
          "metadata": {},
          "execution_count": 324
        }
      ],
      "source": [
        "df_1.head()"
      ]
    },
    {
      "cell_type": "code",
      "execution_count": 325,
      "metadata": {
        "colab": {
          "base_uri": "https://localhost:8080/",
          "height": 375
        },
        "id": "Rk2nZlvqQy10",
        "outputId": "538f4dad-33c8-4e2e-ed23-9cb7e2991edb"
      },
      "outputs": [
        {
          "output_type": "stream",
          "name": "stdout",
          "text": [
            "(51707, 21)\n"
          ]
        },
        {
          "output_type": "execute_result",
          "data": {
            "text/plain": [
              "      realSum        room_type  person_capacity  host_is_superhost  multi  \\\n",
              "0  185.799757     Private room              2.0               True      0   \n",
              "1  387.491820  Entire home/apt              6.0              False      0   \n",
              "2  194.914462     Private room              5.0              False      0   \n",
              "3  171.777134     Private room              2.0              False      0   \n",
              "4  207.768533     Private room              3.0               True      0   \n",
              "\n",
              "   biz  cleanliness_rating  guest_satisfaction_overall  bedrooms      dist  \\\n",
              "0    0                10.0                        98.0         1  3.582222   \n",
              "1    1                10.0                        93.0         2  6.082132   \n",
              "2    1                 9.0                        86.0         1  3.525398   \n",
              "3    0                 9.0                        91.0         1  3.801739   \n",
              "4    0                10.0                        97.0         1  0.982405   \n",
              "\n",
              "   metro_dist    City  Day Type  \n",
              "0    0.174708  berlin  weekends  \n",
              "1    0.480956  berlin  weekends  \n",
              "2    0.511928  berlin  weekends  \n",
              "3    0.281385  berlin  weekends  \n",
              "4    0.705579  berlin  weekends  "
            ],
            "text/html": [
              "\n",
              "  <div id=\"df-8008cf82-ea49-4520-81aa-529b241d6455\">\n",
              "    <div class=\"colab-df-container\">\n",
              "      <div>\n",
              "<style scoped>\n",
              "    .dataframe tbody tr th:only-of-type {\n",
              "        vertical-align: middle;\n",
              "    }\n",
              "\n",
              "    .dataframe tbody tr th {\n",
              "        vertical-align: top;\n",
              "    }\n",
              "\n",
              "    .dataframe thead th {\n",
              "        text-align: right;\n",
              "    }\n",
              "</style>\n",
              "<table border=\"1\" class=\"dataframe\">\n",
              "  <thead>\n",
              "    <tr style=\"text-align: right;\">\n",
              "      <th></th>\n",
              "      <th>realSum</th>\n",
              "      <th>room_type</th>\n",
              "      <th>person_capacity</th>\n",
              "      <th>host_is_superhost</th>\n",
              "      <th>multi</th>\n",
              "      <th>biz</th>\n",
              "      <th>cleanliness_rating</th>\n",
              "      <th>guest_satisfaction_overall</th>\n",
              "      <th>bedrooms</th>\n",
              "      <th>dist</th>\n",
              "      <th>metro_dist</th>\n",
              "      <th>City</th>\n",
              "      <th>Day Type</th>\n",
              "    </tr>\n",
              "  </thead>\n",
              "  <tbody>\n",
              "    <tr>\n",
              "      <th>0</th>\n",
              "      <td>185.799757</td>\n",
              "      <td>Private room</td>\n",
              "      <td>2.0</td>\n",
              "      <td>True</td>\n",
              "      <td>0</td>\n",
              "      <td>0</td>\n",
              "      <td>10.0</td>\n",
              "      <td>98.0</td>\n",
              "      <td>1</td>\n",
              "      <td>3.582222</td>\n",
              "      <td>0.174708</td>\n",
              "      <td>berlin</td>\n",
              "      <td>weekends</td>\n",
              "    </tr>\n",
              "    <tr>\n",
              "      <th>1</th>\n",
              "      <td>387.491820</td>\n",
              "      <td>Entire home/apt</td>\n",
              "      <td>6.0</td>\n",
              "      <td>False</td>\n",
              "      <td>0</td>\n",
              "      <td>1</td>\n",
              "      <td>10.0</td>\n",
              "      <td>93.0</td>\n",
              "      <td>2</td>\n",
              "      <td>6.082132</td>\n",
              "      <td>0.480956</td>\n",
              "      <td>berlin</td>\n",
              "      <td>weekends</td>\n",
              "    </tr>\n",
              "    <tr>\n",
              "      <th>2</th>\n",
              "      <td>194.914462</td>\n",
              "      <td>Private room</td>\n",
              "      <td>5.0</td>\n",
              "      <td>False</td>\n",
              "      <td>0</td>\n",
              "      <td>1</td>\n",
              "      <td>9.0</td>\n",
              "      <td>86.0</td>\n",
              "      <td>1</td>\n",
              "      <td>3.525398</td>\n",
              "      <td>0.511928</td>\n",
              "      <td>berlin</td>\n",
              "      <td>weekends</td>\n",
              "    </tr>\n",
              "    <tr>\n",
              "      <th>3</th>\n",
              "      <td>171.777134</td>\n",
              "      <td>Private room</td>\n",
              "      <td>2.0</td>\n",
              "      <td>False</td>\n",
              "      <td>0</td>\n",
              "      <td>0</td>\n",
              "      <td>9.0</td>\n",
              "      <td>91.0</td>\n",
              "      <td>1</td>\n",
              "      <td>3.801739</td>\n",
              "      <td>0.281385</td>\n",
              "      <td>berlin</td>\n",
              "      <td>weekends</td>\n",
              "    </tr>\n",
              "    <tr>\n",
              "      <th>4</th>\n",
              "      <td>207.768533</td>\n",
              "      <td>Private room</td>\n",
              "      <td>3.0</td>\n",
              "      <td>True</td>\n",
              "      <td>0</td>\n",
              "      <td>0</td>\n",
              "      <td>10.0</td>\n",
              "      <td>97.0</td>\n",
              "      <td>1</td>\n",
              "      <td>0.982405</td>\n",
              "      <td>0.705579</td>\n",
              "      <td>berlin</td>\n",
              "      <td>weekends</td>\n",
              "    </tr>\n",
              "  </tbody>\n",
              "</table>\n",
              "</div>\n",
              "      <button class=\"colab-df-convert\" onclick=\"convertToInteractive('df-8008cf82-ea49-4520-81aa-529b241d6455')\"\n",
              "              title=\"Convert this dataframe to an interactive table.\"\n",
              "              style=\"display:none;\">\n",
              "        \n",
              "  <svg xmlns=\"http://www.w3.org/2000/svg\" height=\"24px\"viewBox=\"0 0 24 24\"\n",
              "       width=\"24px\">\n",
              "    <path d=\"M0 0h24v24H0V0z\" fill=\"none\"/>\n",
              "    <path d=\"M18.56 5.44l.94 2.06.94-2.06 2.06-.94-2.06-.94-.94-2.06-.94 2.06-2.06.94zm-11 1L8.5 8.5l.94-2.06 2.06-.94-2.06-.94L8.5 2.5l-.94 2.06-2.06.94zm10 10l.94 2.06.94-2.06 2.06-.94-2.06-.94-.94-2.06-.94 2.06-2.06.94z\"/><path d=\"M17.41 7.96l-1.37-1.37c-.4-.4-.92-.59-1.43-.59-.52 0-1.04.2-1.43.59L10.3 9.45l-7.72 7.72c-.78.78-.78 2.05 0 2.83L4 21.41c.39.39.9.59 1.41.59.51 0 1.02-.2 1.41-.59l7.78-7.78 2.81-2.81c.8-.78.8-2.07 0-2.86zM5.41 20L4 18.59l7.72-7.72 1.47 1.35L5.41 20z\"/>\n",
              "  </svg>\n",
              "      </button>\n",
              "      \n",
              "  <style>\n",
              "    .colab-df-container {\n",
              "      display:flex;\n",
              "      flex-wrap:wrap;\n",
              "      gap: 12px;\n",
              "    }\n",
              "\n",
              "    .colab-df-convert {\n",
              "      background-color: #E8F0FE;\n",
              "      border: none;\n",
              "      border-radius: 50%;\n",
              "      cursor: pointer;\n",
              "      display: none;\n",
              "      fill: #1967D2;\n",
              "      height: 32px;\n",
              "      padding: 0 0 0 0;\n",
              "      width: 32px;\n",
              "    }\n",
              "\n",
              "    .colab-df-convert:hover {\n",
              "      background-color: #E2EBFA;\n",
              "      box-shadow: 0px 1px 2px rgba(60, 64, 67, 0.3), 0px 1px 3px 1px rgba(60, 64, 67, 0.15);\n",
              "      fill: #174EA6;\n",
              "    }\n",
              "\n",
              "    [theme=dark] .colab-df-convert {\n",
              "      background-color: #3B4455;\n",
              "      fill: #D2E3FC;\n",
              "    }\n",
              "\n",
              "    [theme=dark] .colab-df-convert:hover {\n",
              "      background-color: #434B5C;\n",
              "      box-shadow: 0px 1px 3px 1px rgba(0, 0, 0, 0.15);\n",
              "      filter: drop-shadow(0px 1px 2px rgba(0, 0, 0, 0.3));\n",
              "      fill: #FFFFFF;\n",
              "    }\n",
              "  </style>\n",
              "\n",
              "      <script>\n",
              "        const buttonEl =\n",
              "          document.querySelector('#df-8008cf82-ea49-4520-81aa-529b241d6455 button.colab-df-convert');\n",
              "        buttonEl.style.display =\n",
              "          google.colab.kernel.accessAllowed ? 'block' : 'none';\n",
              "\n",
              "        async function convertToInteractive(key) {\n",
              "          const element = document.querySelector('#df-8008cf82-ea49-4520-81aa-529b241d6455');\n",
              "          const dataTable =\n",
              "            await google.colab.kernel.invokeFunction('convertToInteractive',\n",
              "                                                     [key], {});\n",
              "          if (!dataTable) return;\n",
              "\n",
              "          const docLinkHtml = 'Like what you see? Visit the ' +\n",
              "            '<a target=\"_blank\" href=https://colab.research.google.com/notebooks/data_table.ipynb>data table notebook</a>'\n",
              "            + ' to learn more about interactive tables.';\n",
              "          element.innerHTML = '';\n",
              "          dataTable['output_type'] = 'display_data';\n",
              "          await google.colab.output.renderOutput(dataTable, element);\n",
              "          const docLink = document.createElement('div');\n",
              "          docLink.innerHTML = docLinkHtml;\n",
              "          element.appendChild(docLink);\n",
              "        }\n",
              "      </script>\n",
              "    </div>\n",
              "  </div>\n",
              "  "
            ]
          },
          "metadata": {},
          "execution_count": 325
        }
      ],
      "source": [
        "#Drop columns again\n",
        "cols2drop = ['attr_index', 'attr_index_norm', 'rest_index', 'rest_index_norm', 'room_shared', 'room_private', 'lng', 'lat']\n",
        "df_1 = df.drop(cols2drop, axis=1)\n",
        "print(df.shape)\n",
        "df_1.head()"
      ]
    },
    {
      "cell_type": "markdown",
      "source": [
        "Transformation data"
      ],
      "metadata": {
        "id": "yVZq9HTsuqxb"
      }
    },
    {
      "cell_type": "code",
      "execution_count": 326,
      "metadata": {
        "colab": {
          "base_uri": "https://localhost:8080/",
          "height": 374
        },
        "id": "xUtuDwt7U-6Y",
        "outputId": "24f92914-e8ae-41fe-9256-01f8cb5ec4c0"
      },
      "outputs": [
        {
          "output_type": "execute_result",
          "data": {
            "text/plain": [
              "      realSum        room_type  person_capacity  host_is_superhost  multi  \\\n",
              "0  185.799757     Private room              2.0               True      0   \n",
              "1  387.491820  Entire home/apt              6.0              False      0   \n",
              "2  194.914462     Private room              5.0              False      0   \n",
              "3  171.777134     Private room              2.0              False      0   \n",
              "4  207.768533     Private room              3.0               True      0   \n",
              "\n",
              "   biz  cleanliness_rating  guest_satisfaction_overall  bedrooms      dist  \\\n",
              "0    0                10.0                        98.0         1  3.582222   \n",
              "1    1                10.0                        93.0         2  6.082132   \n",
              "2    1                 9.0                        86.0         1  3.525398   \n",
              "3    0                 9.0                        91.0         1  3.801739   \n",
              "4    0                10.0                        97.0         1  0.982405   \n",
              "\n",
              "   metro_dist    City  Day Type  room_type_Entire home/apt  \\\n",
              "0    0.174708  berlin  weekends                          0   \n",
              "1    0.480956  berlin  weekends                          1   \n",
              "2    0.511928  berlin  weekends                          0   \n",
              "3    0.281385  berlin  weekends                          0   \n",
              "4    0.705579  berlin  weekends                          0   \n",
              "\n",
              "   room_type_Private room  room_type_Shared room  \n",
              "0                       1                      0  \n",
              "1                       0                      0  \n",
              "2                       1                      0  \n",
              "3                       1                      0  \n",
              "4                       1                      0  "
            ],
            "text/html": [
              "\n",
              "  <div id=\"df-a409e395-e621-45b9-a31b-26d455a9215e\">\n",
              "    <div class=\"colab-df-container\">\n",
              "      <div>\n",
              "<style scoped>\n",
              "    .dataframe tbody tr th:only-of-type {\n",
              "        vertical-align: middle;\n",
              "    }\n",
              "\n",
              "    .dataframe tbody tr th {\n",
              "        vertical-align: top;\n",
              "    }\n",
              "\n",
              "    .dataframe thead th {\n",
              "        text-align: right;\n",
              "    }\n",
              "</style>\n",
              "<table border=\"1\" class=\"dataframe\">\n",
              "  <thead>\n",
              "    <tr style=\"text-align: right;\">\n",
              "      <th></th>\n",
              "      <th>realSum</th>\n",
              "      <th>room_type</th>\n",
              "      <th>person_capacity</th>\n",
              "      <th>host_is_superhost</th>\n",
              "      <th>multi</th>\n",
              "      <th>biz</th>\n",
              "      <th>cleanliness_rating</th>\n",
              "      <th>guest_satisfaction_overall</th>\n",
              "      <th>bedrooms</th>\n",
              "      <th>dist</th>\n",
              "      <th>metro_dist</th>\n",
              "      <th>City</th>\n",
              "      <th>Day Type</th>\n",
              "      <th>room_type_Entire home/apt</th>\n",
              "      <th>room_type_Private room</th>\n",
              "      <th>room_type_Shared room</th>\n",
              "    </tr>\n",
              "  </thead>\n",
              "  <tbody>\n",
              "    <tr>\n",
              "      <th>0</th>\n",
              "      <td>185.799757</td>\n",
              "      <td>Private room</td>\n",
              "      <td>2.0</td>\n",
              "      <td>True</td>\n",
              "      <td>0</td>\n",
              "      <td>0</td>\n",
              "      <td>10.0</td>\n",
              "      <td>98.0</td>\n",
              "      <td>1</td>\n",
              "      <td>3.582222</td>\n",
              "      <td>0.174708</td>\n",
              "      <td>berlin</td>\n",
              "      <td>weekends</td>\n",
              "      <td>0</td>\n",
              "      <td>1</td>\n",
              "      <td>0</td>\n",
              "    </tr>\n",
              "    <tr>\n",
              "      <th>1</th>\n",
              "      <td>387.491820</td>\n",
              "      <td>Entire home/apt</td>\n",
              "      <td>6.0</td>\n",
              "      <td>False</td>\n",
              "      <td>0</td>\n",
              "      <td>1</td>\n",
              "      <td>10.0</td>\n",
              "      <td>93.0</td>\n",
              "      <td>2</td>\n",
              "      <td>6.082132</td>\n",
              "      <td>0.480956</td>\n",
              "      <td>berlin</td>\n",
              "      <td>weekends</td>\n",
              "      <td>1</td>\n",
              "      <td>0</td>\n",
              "      <td>0</td>\n",
              "    </tr>\n",
              "    <tr>\n",
              "      <th>2</th>\n",
              "      <td>194.914462</td>\n",
              "      <td>Private room</td>\n",
              "      <td>5.0</td>\n",
              "      <td>False</td>\n",
              "      <td>0</td>\n",
              "      <td>1</td>\n",
              "      <td>9.0</td>\n",
              "      <td>86.0</td>\n",
              "      <td>1</td>\n",
              "      <td>3.525398</td>\n",
              "      <td>0.511928</td>\n",
              "      <td>berlin</td>\n",
              "      <td>weekends</td>\n",
              "      <td>0</td>\n",
              "      <td>1</td>\n",
              "      <td>0</td>\n",
              "    </tr>\n",
              "    <tr>\n",
              "      <th>3</th>\n",
              "      <td>171.777134</td>\n",
              "      <td>Private room</td>\n",
              "      <td>2.0</td>\n",
              "      <td>False</td>\n",
              "      <td>0</td>\n",
              "      <td>0</td>\n",
              "      <td>9.0</td>\n",
              "      <td>91.0</td>\n",
              "      <td>1</td>\n",
              "      <td>3.801739</td>\n",
              "      <td>0.281385</td>\n",
              "      <td>berlin</td>\n",
              "      <td>weekends</td>\n",
              "      <td>0</td>\n",
              "      <td>1</td>\n",
              "      <td>0</td>\n",
              "    </tr>\n",
              "    <tr>\n",
              "      <th>4</th>\n",
              "      <td>207.768533</td>\n",
              "      <td>Private room</td>\n",
              "      <td>3.0</td>\n",
              "      <td>True</td>\n",
              "      <td>0</td>\n",
              "      <td>0</td>\n",
              "      <td>10.0</td>\n",
              "      <td>97.0</td>\n",
              "      <td>1</td>\n",
              "      <td>0.982405</td>\n",
              "      <td>0.705579</td>\n",
              "      <td>berlin</td>\n",
              "      <td>weekends</td>\n",
              "      <td>0</td>\n",
              "      <td>1</td>\n",
              "      <td>0</td>\n",
              "    </tr>\n",
              "  </tbody>\n",
              "</table>\n",
              "</div>\n",
              "      <button class=\"colab-df-convert\" onclick=\"convertToInteractive('df-a409e395-e621-45b9-a31b-26d455a9215e')\"\n",
              "              title=\"Convert this dataframe to an interactive table.\"\n",
              "              style=\"display:none;\">\n",
              "        \n",
              "  <svg xmlns=\"http://www.w3.org/2000/svg\" height=\"24px\"viewBox=\"0 0 24 24\"\n",
              "       width=\"24px\">\n",
              "    <path d=\"M0 0h24v24H0V0z\" fill=\"none\"/>\n",
              "    <path d=\"M18.56 5.44l.94 2.06.94-2.06 2.06-.94-2.06-.94-.94-2.06-.94 2.06-2.06.94zm-11 1L8.5 8.5l.94-2.06 2.06-.94-2.06-.94L8.5 2.5l-.94 2.06-2.06.94zm10 10l.94 2.06.94-2.06 2.06-.94-2.06-.94-.94-2.06-.94 2.06-2.06.94z\"/><path d=\"M17.41 7.96l-1.37-1.37c-.4-.4-.92-.59-1.43-.59-.52 0-1.04.2-1.43.59L10.3 9.45l-7.72 7.72c-.78.78-.78 2.05 0 2.83L4 21.41c.39.39.9.59 1.41.59.51 0 1.02-.2 1.41-.59l7.78-7.78 2.81-2.81c.8-.78.8-2.07 0-2.86zM5.41 20L4 18.59l7.72-7.72 1.47 1.35L5.41 20z\"/>\n",
              "  </svg>\n",
              "      </button>\n",
              "      \n",
              "  <style>\n",
              "    .colab-df-container {\n",
              "      display:flex;\n",
              "      flex-wrap:wrap;\n",
              "      gap: 12px;\n",
              "    }\n",
              "\n",
              "    .colab-df-convert {\n",
              "      background-color: #E8F0FE;\n",
              "      border: none;\n",
              "      border-radius: 50%;\n",
              "      cursor: pointer;\n",
              "      display: none;\n",
              "      fill: #1967D2;\n",
              "      height: 32px;\n",
              "      padding: 0 0 0 0;\n",
              "      width: 32px;\n",
              "    }\n",
              "\n",
              "    .colab-df-convert:hover {\n",
              "      background-color: #E2EBFA;\n",
              "      box-shadow: 0px 1px 2px rgba(60, 64, 67, 0.3), 0px 1px 3px 1px rgba(60, 64, 67, 0.15);\n",
              "      fill: #174EA6;\n",
              "    }\n",
              "\n",
              "    [theme=dark] .colab-df-convert {\n",
              "      background-color: #3B4455;\n",
              "      fill: #D2E3FC;\n",
              "    }\n",
              "\n",
              "    [theme=dark] .colab-df-convert:hover {\n",
              "      background-color: #434B5C;\n",
              "      box-shadow: 0px 1px 3px 1px rgba(0, 0, 0, 0.15);\n",
              "      filter: drop-shadow(0px 1px 2px rgba(0, 0, 0, 0.3));\n",
              "      fill: #FFFFFF;\n",
              "    }\n",
              "  </style>\n",
              "\n",
              "      <script>\n",
              "        const buttonEl =\n",
              "          document.querySelector('#df-a409e395-e621-45b9-a31b-26d455a9215e button.colab-df-convert');\n",
              "        buttonEl.style.display =\n",
              "          google.colab.kernel.accessAllowed ? 'block' : 'none';\n",
              "\n",
              "        async function convertToInteractive(key) {\n",
              "          const element = document.querySelector('#df-a409e395-e621-45b9-a31b-26d455a9215e');\n",
              "          const dataTable =\n",
              "            await google.colab.kernel.invokeFunction('convertToInteractive',\n",
              "                                                     [key], {});\n",
              "          if (!dataTable) return;\n",
              "\n",
              "          const docLinkHtml = 'Like what you see? Visit the ' +\n",
              "            '<a target=\"_blank\" href=https://colab.research.google.com/notebooks/data_table.ipynb>data table notebook</a>'\n",
              "            + ' to learn more about interactive tables.';\n",
              "          element.innerHTML = '';\n",
              "          dataTable['output_type'] = 'display_data';\n",
              "          await google.colab.output.renderOutput(dataTable, element);\n",
              "          const docLink = document.createElement('div');\n",
              "          docLink.innerHTML = docLinkHtml;\n",
              "          element.appendChild(docLink);\n",
              "        }\n",
              "      </script>\n",
              "    </div>\n",
              "  </div>\n",
              "  "
            ]
          },
          "metadata": {},
          "execution_count": 326
        }
      ],
      "source": [
        "# make dummy variable for room_type\n",
        "dummy = pd.get_dummies(df_1['room_type'], prefix='room_type')\n",
        "df_1 = pd.concat([df_1, dummy], axis=1)\n",
        "df_1.head()"
      ]
    },
    {
      "cell_type": "code",
      "execution_count": 327,
      "metadata": {
        "colab": {
          "base_uri": "https://localhost:8080/"
        },
        "id": "jcO_Ioq2UDCs",
        "outputId": "86e3ff2c-c2eb-4375-aa5f-4875b5689a55"
      },
      "outputs": [
        {
          "output_type": "execute_result",
          "data": {
            "text/plain": [
              "array(['Private room', 'Entire home/apt', 'Shared room'], dtype=object)"
            ]
          },
          "metadata": {},
          "execution_count": 327
        }
      ],
      "source": [
        "df_1['room_type'].unique()"
      ]
    },
    {
      "cell_type": "code",
      "execution_count": 328,
      "metadata": {
        "colab": {
          "base_uri": "https://localhost:8080/"
        },
        "id": "bc9nXSB7T-_z",
        "outputId": "b53a21dc-63fa-4be9-b731-e6bbd72ceccc"
      },
      "outputs": [
        {
          "output_type": "execute_result",
          "data": {
            "text/plain": [
              "0    1\n",
              "1    1\n",
              "2    1\n",
              "3    1\n",
              "4    1\n",
              "Name: Day Type, dtype: int64"
            ]
          },
          "metadata": {},
          "execution_count": 328
        }
      ],
      "source": [
        "from sklearn.preprocessing import LabelEncoder\n",
        "\n",
        "# Create LabelEncoder Object and transform the Default variable\n",
        "df_1[\"Day Type\"] = LabelEncoder().fit_transform(df_1[\"Day Type\"])\n",
        "df_1['Day Type'].head()"
      ]
    },
    {
      "cell_type": "code",
      "source": [
        "df_1['host_is_superhost'] = LabelEncoder().fit_transform(df_1['host_is_superhost'])\n",
        "df_1['host_is_superhost'].head()"
      ],
      "metadata": {
        "colab": {
          "base_uri": "https://localhost:8080/"
        },
        "id": "sfqXmVZUM7lh",
        "outputId": "cd0e7041-3722-4998-ecf8-64dc008f13c6"
      },
      "execution_count": 329,
      "outputs": [
        {
          "output_type": "execute_result",
          "data": {
            "text/plain": [
              "0    1\n",
              "1    0\n",
              "2    0\n",
              "3    0\n",
              "4    1\n",
              "Name: host_is_superhost, dtype: int64"
            ]
          },
          "metadata": {},
          "execution_count": 329
        }
      ]
    },
    {
      "cell_type": "code",
      "source": [
        "df_1.columns"
      ],
      "metadata": {
        "colab": {
          "base_uri": "https://localhost:8080/"
        },
        "id": "vmhXtG1tLZfV",
        "outputId": "08b7e175-5144-4b42-86c4-11a075d96c0d"
      },
      "execution_count": 330,
      "outputs": [
        {
          "output_type": "execute_result",
          "data": {
            "text/plain": [
              "Index(['realSum', 'room_type', 'person_capacity', 'host_is_superhost', 'multi',\n",
              "       'biz', 'cleanliness_rating', 'guest_satisfaction_overall', 'bedrooms',\n",
              "       'dist', 'metro_dist', 'City', 'Day Type', 'room_type_Entire home/apt',\n",
              "       'room_type_Private room', 'room_type_Shared room'],\n",
              "      dtype='object')"
            ]
          },
          "metadata": {},
          "execution_count": 330
        }
      ]
    },
    {
      "cell_type": "code",
      "source": [
        "df_2 = df_1.rename(columns={'Day Type': 'day_type', 'room_type_Entire home/apt': 'entire_home_apt', 'room_type_Private room': 'private_room', 'room_type_Shared room': 'shared_room'})"
      ],
      "metadata": {
        "id": "Yp-tN1wPLOvU"
      },
      "execution_count": 331,
      "outputs": []
    },
    {
      "cell_type": "code",
      "source": [
        "df_2.head()"
      ],
      "metadata": {
        "colab": {
          "base_uri": "https://localhost:8080/",
          "height": 357
        },
        "id": "WYwJj5UuMbJ2",
        "outputId": "eeab1197-b7a1-4e6b-a840-22b7d48c3777"
      },
      "execution_count": 332,
      "outputs": [
        {
          "output_type": "execute_result",
          "data": {
            "text/plain": [
              "      realSum        room_type  person_capacity  host_is_superhost  multi  \\\n",
              "0  185.799757     Private room              2.0                  1      0   \n",
              "1  387.491820  Entire home/apt              6.0                  0      0   \n",
              "2  194.914462     Private room              5.0                  0      0   \n",
              "3  171.777134     Private room              2.0                  0      0   \n",
              "4  207.768533     Private room              3.0                  1      0   \n",
              "\n",
              "   biz  cleanliness_rating  guest_satisfaction_overall  bedrooms      dist  \\\n",
              "0    0                10.0                        98.0         1  3.582222   \n",
              "1    1                10.0                        93.0         2  6.082132   \n",
              "2    1                 9.0                        86.0         1  3.525398   \n",
              "3    0                 9.0                        91.0         1  3.801739   \n",
              "4    0                10.0                        97.0         1  0.982405   \n",
              "\n",
              "   metro_dist    City  day_type  entire_home_apt  private_room  shared_room  \n",
              "0    0.174708  berlin         1                0             1            0  \n",
              "1    0.480956  berlin         1                1             0            0  \n",
              "2    0.511928  berlin         1                0             1            0  \n",
              "3    0.281385  berlin         1                0             1            0  \n",
              "4    0.705579  berlin         1                0             1            0  "
            ],
            "text/html": [
              "\n",
              "  <div id=\"df-e68752a7-f8bd-4031-bff7-bf6f46950c7f\">\n",
              "    <div class=\"colab-df-container\">\n",
              "      <div>\n",
              "<style scoped>\n",
              "    .dataframe tbody tr th:only-of-type {\n",
              "        vertical-align: middle;\n",
              "    }\n",
              "\n",
              "    .dataframe tbody tr th {\n",
              "        vertical-align: top;\n",
              "    }\n",
              "\n",
              "    .dataframe thead th {\n",
              "        text-align: right;\n",
              "    }\n",
              "</style>\n",
              "<table border=\"1\" class=\"dataframe\">\n",
              "  <thead>\n",
              "    <tr style=\"text-align: right;\">\n",
              "      <th></th>\n",
              "      <th>realSum</th>\n",
              "      <th>room_type</th>\n",
              "      <th>person_capacity</th>\n",
              "      <th>host_is_superhost</th>\n",
              "      <th>multi</th>\n",
              "      <th>biz</th>\n",
              "      <th>cleanliness_rating</th>\n",
              "      <th>guest_satisfaction_overall</th>\n",
              "      <th>bedrooms</th>\n",
              "      <th>dist</th>\n",
              "      <th>metro_dist</th>\n",
              "      <th>City</th>\n",
              "      <th>day_type</th>\n",
              "      <th>entire_home_apt</th>\n",
              "      <th>private_room</th>\n",
              "      <th>shared_room</th>\n",
              "    </tr>\n",
              "  </thead>\n",
              "  <tbody>\n",
              "    <tr>\n",
              "      <th>0</th>\n",
              "      <td>185.799757</td>\n",
              "      <td>Private room</td>\n",
              "      <td>2.0</td>\n",
              "      <td>1</td>\n",
              "      <td>0</td>\n",
              "      <td>0</td>\n",
              "      <td>10.0</td>\n",
              "      <td>98.0</td>\n",
              "      <td>1</td>\n",
              "      <td>3.582222</td>\n",
              "      <td>0.174708</td>\n",
              "      <td>berlin</td>\n",
              "      <td>1</td>\n",
              "      <td>0</td>\n",
              "      <td>1</td>\n",
              "      <td>0</td>\n",
              "    </tr>\n",
              "    <tr>\n",
              "      <th>1</th>\n",
              "      <td>387.491820</td>\n",
              "      <td>Entire home/apt</td>\n",
              "      <td>6.0</td>\n",
              "      <td>0</td>\n",
              "      <td>0</td>\n",
              "      <td>1</td>\n",
              "      <td>10.0</td>\n",
              "      <td>93.0</td>\n",
              "      <td>2</td>\n",
              "      <td>6.082132</td>\n",
              "      <td>0.480956</td>\n",
              "      <td>berlin</td>\n",
              "      <td>1</td>\n",
              "      <td>1</td>\n",
              "      <td>0</td>\n",
              "      <td>0</td>\n",
              "    </tr>\n",
              "    <tr>\n",
              "      <th>2</th>\n",
              "      <td>194.914462</td>\n",
              "      <td>Private room</td>\n",
              "      <td>5.0</td>\n",
              "      <td>0</td>\n",
              "      <td>0</td>\n",
              "      <td>1</td>\n",
              "      <td>9.0</td>\n",
              "      <td>86.0</td>\n",
              "      <td>1</td>\n",
              "      <td>3.525398</td>\n",
              "      <td>0.511928</td>\n",
              "      <td>berlin</td>\n",
              "      <td>1</td>\n",
              "      <td>0</td>\n",
              "      <td>1</td>\n",
              "      <td>0</td>\n",
              "    </tr>\n",
              "    <tr>\n",
              "      <th>3</th>\n",
              "      <td>171.777134</td>\n",
              "      <td>Private room</td>\n",
              "      <td>2.0</td>\n",
              "      <td>0</td>\n",
              "      <td>0</td>\n",
              "      <td>0</td>\n",
              "      <td>9.0</td>\n",
              "      <td>91.0</td>\n",
              "      <td>1</td>\n",
              "      <td>3.801739</td>\n",
              "      <td>0.281385</td>\n",
              "      <td>berlin</td>\n",
              "      <td>1</td>\n",
              "      <td>0</td>\n",
              "      <td>1</td>\n",
              "      <td>0</td>\n",
              "    </tr>\n",
              "    <tr>\n",
              "      <th>4</th>\n",
              "      <td>207.768533</td>\n",
              "      <td>Private room</td>\n",
              "      <td>3.0</td>\n",
              "      <td>1</td>\n",
              "      <td>0</td>\n",
              "      <td>0</td>\n",
              "      <td>10.0</td>\n",
              "      <td>97.0</td>\n",
              "      <td>1</td>\n",
              "      <td>0.982405</td>\n",
              "      <td>0.705579</td>\n",
              "      <td>berlin</td>\n",
              "      <td>1</td>\n",
              "      <td>0</td>\n",
              "      <td>1</td>\n",
              "      <td>0</td>\n",
              "    </tr>\n",
              "  </tbody>\n",
              "</table>\n",
              "</div>\n",
              "      <button class=\"colab-df-convert\" onclick=\"convertToInteractive('df-e68752a7-f8bd-4031-bff7-bf6f46950c7f')\"\n",
              "              title=\"Convert this dataframe to an interactive table.\"\n",
              "              style=\"display:none;\">\n",
              "        \n",
              "  <svg xmlns=\"http://www.w3.org/2000/svg\" height=\"24px\"viewBox=\"0 0 24 24\"\n",
              "       width=\"24px\">\n",
              "    <path d=\"M0 0h24v24H0V0z\" fill=\"none\"/>\n",
              "    <path d=\"M18.56 5.44l.94 2.06.94-2.06 2.06-.94-2.06-.94-.94-2.06-.94 2.06-2.06.94zm-11 1L8.5 8.5l.94-2.06 2.06-.94-2.06-.94L8.5 2.5l-.94 2.06-2.06.94zm10 10l.94 2.06.94-2.06 2.06-.94-2.06-.94-.94-2.06-.94 2.06-2.06.94z\"/><path d=\"M17.41 7.96l-1.37-1.37c-.4-.4-.92-.59-1.43-.59-.52 0-1.04.2-1.43.59L10.3 9.45l-7.72 7.72c-.78.78-.78 2.05 0 2.83L4 21.41c.39.39.9.59 1.41.59.51 0 1.02-.2 1.41-.59l7.78-7.78 2.81-2.81c.8-.78.8-2.07 0-2.86zM5.41 20L4 18.59l7.72-7.72 1.47 1.35L5.41 20z\"/>\n",
              "  </svg>\n",
              "      </button>\n",
              "      \n",
              "  <style>\n",
              "    .colab-df-container {\n",
              "      display:flex;\n",
              "      flex-wrap:wrap;\n",
              "      gap: 12px;\n",
              "    }\n",
              "\n",
              "    .colab-df-convert {\n",
              "      background-color: #E8F0FE;\n",
              "      border: none;\n",
              "      border-radius: 50%;\n",
              "      cursor: pointer;\n",
              "      display: none;\n",
              "      fill: #1967D2;\n",
              "      height: 32px;\n",
              "      padding: 0 0 0 0;\n",
              "      width: 32px;\n",
              "    }\n",
              "\n",
              "    .colab-df-convert:hover {\n",
              "      background-color: #E2EBFA;\n",
              "      box-shadow: 0px 1px 2px rgba(60, 64, 67, 0.3), 0px 1px 3px 1px rgba(60, 64, 67, 0.15);\n",
              "      fill: #174EA6;\n",
              "    }\n",
              "\n",
              "    [theme=dark] .colab-df-convert {\n",
              "      background-color: #3B4455;\n",
              "      fill: #D2E3FC;\n",
              "    }\n",
              "\n",
              "    [theme=dark] .colab-df-convert:hover {\n",
              "      background-color: #434B5C;\n",
              "      box-shadow: 0px 1px 3px 1px rgba(0, 0, 0, 0.15);\n",
              "      filter: drop-shadow(0px 1px 2px rgba(0, 0, 0, 0.3));\n",
              "      fill: #FFFFFF;\n",
              "    }\n",
              "  </style>\n",
              "\n",
              "      <script>\n",
              "        const buttonEl =\n",
              "          document.querySelector('#df-e68752a7-f8bd-4031-bff7-bf6f46950c7f button.colab-df-convert');\n",
              "        buttonEl.style.display =\n",
              "          google.colab.kernel.accessAllowed ? 'block' : 'none';\n",
              "\n",
              "        async function convertToInteractive(key) {\n",
              "          const element = document.querySelector('#df-e68752a7-f8bd-4031-bff7-bf6f46950c7f');\n",
              "          const dataTable =\n",
              "            await google.colab.kernel.invokeFunction('convertToInteractive',\n",
              "                                                     [key], {});\n",
              "          if (!dataTable) return;\n",
              "\n",
              "          const docLinkHtml = 'Like what you see? Visit the ' +\n",
              "            '<a target=\"_blank\" href=https://colab.research.google.com/notebooks/data_table.ipynb>data table notebook</a>'\n",
              "            + ' to learn more about interactive tables.';\n",
              "          element.innerHTML = '';\n",
              "          dataTable['output_type'] = 'display_data';\n",
              "          await google.colab.output.renderOutput(dataTable, element);\n",
              "          const docLink = document.createElement('div');\n",
              "          docLink.innerHTML = docLinkHtml;\n",
              "          element.appendChild(docLink);\n",
              "        }\n",
              "      </script>\n",
              "    </div>\n",
              "  </div>\n",
              "  "
            ]
          },
          "metadata": {},
          "execution_count": 332
        }
      ]
    },
    {
      "cell_type": "code",
      "source": [
        "df_2 = df_2.drop(columns=['City', 'room_type'])"
      ],
      "metadata": {
        "id": "CnayWuq6qv57"
      },
      "execution_count": 333,
      "outputs": []
    },
    {
      "cell_type": "code",
      "source": [
        "df_2['multi'].unique()"
      ],
      "metadata": {
        "colab": {
          "base_uri": "https://localhost:8080/"
        },
        "id": "GOu5iRoqOO8Q",
        "outputId": "f6b3b877-1024-442a-811f-12aad7ccfdc7"
      },
      "execution_count": 334,
      "outputs": [
        {
          "output_type": "execute_result",
          "data": {
            "text/plain": [
              "array([0, 1])"
            ]
          },
          "metadata": {},
          "execution_count": 334
        }
      ]
    },
    {
      "cell_type": "markdown",
      "source": [
        "Correlation between variable"
      ],
      "metadata": {
        "id": "eHY7OiZoqzO2"
      }
    },
    {
      "cell_type": "code",
      "source": [
        "plt.figure(figsize=(12,6))\n",
        "sns.heatmap(df_2.corr(),annot=True,fmt='.2f')\n",
        "plt.show()"
      ],
      "metadata": {
        "colab": {
          "base_uri": "https://localhost:8080/",
          "height": 694
        },
        "id": "yPnbrguDIpqF",
        "outputId": "af9de783-6758-4b90-9436-2a0ab68438f1"
      },
      "execution_count": 335,
      "outputs": [
        {
          "output_type": "display_data",
          "data": {
            "text/plain": [
              "<Figure size 1200x600 with 2 Axes>"
            ],
            "image/png": "[encoded data removed]"
          },
          "metadata": {}
        }
      ]
    },
    {
      "cell_type": "markdown",
      "source": [
        "## Analyze using OLS"
      ],
      "metadata": {
        "id": "ZteXckQTq3ec"
      }
    },
    {
      "cell_type": "code",
      "execution_count": 336,
      "metadata": {
        "id": "zQkFJikvTcvx"
      },
      "outputs": [],
      "source": [
        "def print_coef_std_err(results):\n",
        "    \"\"\"\n",
        "    Function to combine estimated coefficients and standard error in one DataFrame\n",
        "    :param results: <statsmodels RegressionResultsWrapper> OLS regression results from \n",
        "    :return df: <pandas DataFrame> \n",
        "    \"\"\"\n",
        "    coef = results.params\n",
        "    std_err = results.bse\n",
        "    \n",
        "    df = pd.DataFrame(data = np.transpose([coef, std_err]), \n",
        "                      index = coef.index, \n",
        "                      columns=[\"coef\",\"std err\"])\n",
        "    return df"
      ]
    },
    {
      "cell_type": "code",
      "source": [
        "df_2.columns"
      ],
      "metadata": {
        "colab": {
          "base_uri": "https://localhost:8080/"
        },
        "id": "sakporCkNxhm",
        "outputId": "7ead463e-0767-4071-f2d7-45dd04c0ef10"
      },
      "execution_count": 337,
      "outputs": [
        {
          "output_type": "execute_result",
          "data": {
            "text/plain": [
              "Index(['realSum', 'person_capacity', 'host_is_superhost', 'multi', 'biz',\n",
              "       'cleanliness_rating', 'guest_satisfaction_overall', 'bedrooms', 'dist',\n",
              "       'metro_dist', 'day_type', 'entire_home_apt', 'private_room',\n",
              "       'shared_room'],\n",
              "      dtype='object')"
            ]
          },
          "metadata": {},
          "execution_count": 337
        }
      ]
    },
    {
      "cell_type": "code",
      "execution_count": 338,
      "metadata": {
        "id": "wdpbMN1iTf4u"
      },
      "outputs": [],
      "source": [
        "# modelling\n",
        "import statsmodels.formula.api as smf\n",
        "\n",
        "# statistics \n",
        "import scipy.stats as stats"
      ]
    },
    {
      "cell_type": "code",
      "source": [
        "# Create OLS model object\n",
        "model = smf.ols(\"realSum ~ person_capacity + host_is_superhost + multi + biz + cleanliness_rating + guest_satisfaction_overall + bedrooms + dist + metro_dist + day_type+ private_room + entire_home_apt + shared_room\", df_2)\n",
        "\n",
        "# Fit the model\n",
        "results = model.fit()\n",
        "\n",
        "# Extract the results (Coefficient and Standard Error) to DataFrame\n",
        "results_c_height = print_coef_std_err(results)\n",
        "print(results.summary())"
      ],
      "metadata": {
        "colab": {
          "base_uri": "https://localhost:8080/"
        },
        "id": "v1U6kgjxQrRb",
        "outputId": "4f7dbbeb-6d54-496b-e9fa-974b4eaabc12"
      },
      "execution_count": 339,
      "outputs": [
        {
          "output_type": "stream",
          "name": "stdout",
          "text": [
            "                            OLS Regression Results                            \n",
            "==============================================================================\n",
            "Dep. Variable:                realSum   R-squared:                       0.079\n",
            "Model:                            OLS   Adj. R-squared:                  0.079\n",
            "Method:                 Least Squares   F-statistic:                     369.3\n",
            "Date:                Sun, 16 Apr 2023   Prob (F-statistic):               0.00\n",
            "Time:                        15:31:37   Log-Likelihood:            -3.7077e+05\n",
            "No. Observations:               51707   AIC:                         7.416e+05\n",
            "Df Residuals:                   51694   BIC:                         7.417e+05\n",
            "Df Model:                          12                                         \n",
            "Covariance Type:            nonrobust                                         \n",
            "==============================================================================================\n",
            "                                 coef    std err          t      P>|t|      [0.025      0.975]\n",
            "----------------------------------------------------------------------------------------------\n",
            "Intercept                     60.1165     13.294      4.522      0.000      34.059      86.174\n",
            "person_capacity                9.6982      1.515      6.402      0.000       6.729      12.667\n",
            "host_is_superhost            -40.8710      3.348    -12.208      0.000     -47.433     -34.309\n",
            "multi                        -13.1960      3.525     -3.744      0.000     -20.104      -6.288\n",
            "biz                           13.0772      3.478      3.759      0.000       6.259      19.895\n",
            "cleanliness_rating            -2.2330      2.090     -1.068      0.285      -6.330       1.864\n",
            "guest_satisfaction_overall     0.3899      0.227      1.716      0.086      -0.055       0.835\n",
            "bedrooms                      96.4885      2.733     35.306      0.000      91.132     101.845\n",
            "dist                           3.6462      0.720      5.061      0.000       2.234       5.058\n",
            "metro_dist                   -25.7936      1.951    -13.224      0.000     -29.617     -21.970\n",
            "day_type                       8.9084      2.770      3.216      0.001       3.479      14.338\n",
            "private_room                  20.1650      6.195      3.255      0.001       8.022      32.308\n",
            "entire_home_apt              105.2775      6.225     16.912      0.000      93.076     117.479\n",
            "shared_room                  -65.3260     13.093     -4.989      0.000     -90.989     -39.663\n",
            "==============================================================================\n",
            "Omnibus:                   121604.118   Durbin-Watson:                   1.654\n",
            "Prob(Omnibus):                  0.000   Jarque-Bera (JB):       2000626992.249\n",
            "Skew:                          23.451   Prob(JB):                         0.00\n",
            "Kurtosis:                     965.496   Cond. No.                     1.20e+17\n",
            "==============================================================================\n",
            "\n",
            "Notes:\n",
            "[1] Standard Errors assume that the covariance matrix of the errors is correctly specified.\n",
            "[2] The smallest eigenvalue is 3.13e-26. This might indicate that there are\n",
            "strong multicollinearity problems or that the design matrix is singular.\n"
          ]
        }
      ]
    },
    {
      "cell_type": "markdown",
      "source": [
        "Because cleanliness_rating dan guest_satisfaction_overall is not significant in 0.05, so i replaced it"
      ],
      "metadata": {
        "id": "JnGESG30q_Fl"
      }
    },
    {
      "cell_type": "code",
      "source": [
        "import pandas as pd\n",
        "import numpy as np\n",
        "import statsmodels.api as sm\n",
        "import statsmodels.formula.api as smf\n",
        "from statsmodels.stats.outliers_influence import variance_inflation_factor\n",
        "\n",
        "# Select relevant columns\n",
        "df_2 = df_2[['realSum', 'person_capacity', 'host_is_superhost', 'multi', 'biz', 'bedrooms', 'dist', 'metro_dist', 'day_type', 'entire_home_apt', 'private_room', 'shared_room']]\n",
        "\n",
        "# Create OLS model object\n",
        "model = smf.ols(\"realSum ~ person_capacity + host_is_superhost + multi + biz + bedrooms + dist + metro_dist + day_type + entire_home_apt + private_room + shared_room\", df_2)\n",
        "\n",
        "# Fit the model\n",
        "results = model.fit()\n",
        "\n",
        "print(\"OLS Regression Results:\")\n",
        "print(results.summary())"
      ],
      "metadata": {
        "colab": {
          "base_uri": "https://localhost:8080/"
        },
        "id": "9CCUYWhRV7AO",
        "outputId": "6dde2950-ff57-4524-d163-f54d87f5dc5a"
      },
      "execution_count": 340,
      "outputs": [
        {
          "output_type": "stream",
          "name": "stdout",
          "text": [
            "OLS Regression Results:\n",
            "                            OLS Regression Results                            \n",
            "==============================================================================\n",
            "Dep. Variable:                realSum   R-squared:                       0.079\n",
            "Model:                            OLS   Adj. R-squared:                  0.079\n",
            "Method:                 Least Squares   F-statistic:                     442.8\n",
            "Date:                Sun, 16 Apr 2023   Prob (F-statistic):               0.00\n",
            "Time:                        15:31:37   Log-Likelihood:            -3.7077e+05\n",
            "No. Observations:               51707   AIC:                         7.416e+05\n",
            "Df Residuals:                   51696   BIC:                         7.417e+05\n",
            "Df Model:                          10                                         \n",
            "Covariance Type:            nonrobust                                         \n",
            "=====================================================================================\n",
            "                        coef    std err          t      P>|t|      [0.025      0.975]\n",
            "-------------------------------------------------------------------------------------\n",
            "Intercept            71.6835      5.708     12.559      0.000      60.496      82.871\n",
            "person_capacity       9.7015      1.514      6.406      0.000       6.733      12.670\n",
            "host_is_superhost   -40.0667      3.211    -12.479      0.000     -46.360     -33.773\n",
            "multi               -13.6137      3.516     -3.872      0.000     -20.505      -6.723\n",
            "biz                  11.9253      3.407      3.500      0.000       5.248      18.603\n",
            "bedrooms             96.5920      2.731     35.368      0.000      91.239     101.945\n",
            "dist                  3.6295      0.720      5.041      0.000       2.218       5.041\n",
            "metro_dist          -25.7342      1.950    -13.198      0.000     -29.556     -21.912\n",
            "day_type              8.9192      2.770      3.220      0.001       3.489      14.349\n",
            "entire_home_apt     109.0599      4.650     23.456      0.000      99.947     118.173\n",
            "private_room         23.9219      4.670      5.122      0.000      14.768      33.075\n",
            "shared_room         -61.2983     12.527     -4.893      0.000     -85.851     -36.745\n",
            "==============================================================================\n",
            "Omnibus:                   121612.337   Durbin-Watson:                   1.655\n",
            "Prob(Omnibus):                  0.000   Jarque-Bera (JB):       2001428700.977\n",
            "Skew:                          23.455   Prob(JB):                         0.00\n",
            "Kurtosis:                     965.689   Cond. No.                     2.64e+15\n",
            "==============================================================================\n",
            "\n",
            "Notes:\n",
            "[1] Standard Errors assume that the covariance matrix of the errors is correctly specified.\n",
            "[2] The smallest eigenvalue is 2.03e-25. This might indicate that there are\n",
            "strong multicollinearity problems or that the design matrix is singular.\n"
          ]
        }
      ]
    },
    {
      "cell_type": "markdown",
      "source": [
        "* intercept coefficient is 71.6835, meaning that if all independent variables are set to 0, the predicted value of realSum is 71.6835.\n",
        "* person_capacity has a coefficient of 9.7015, indicating that if there is an increase of one unit in the person_capacity variable, the value of realSum will increase by 9.7015 units, assuming all other independent variables remain constant.\n",
        "* host_is_superhost has a coefficient of -40.0667, indicating that if there is a change in the host_is_superhost variable from 0 to 1 (from non-superhost to superhost), the value of realSum will decrease by 40.0667 units, assuming all other independent variables remain constant.\n",
        "* multi has a coefficient of -13.6137, indicating that if there is a change in the multi variable from 0 to 1, the value of realSum will decrease by 13.6137 units, assuming all other independent variables remain constant.\n",
        "* biz has a coefficient of 11.9253, indicating that if there is a change in the biz variable from 0 to 1, the value of realSum will increase by 11.9253 units, assuming all other independent variables remain constant.\n",
        "* bedrooms variable has a coefficient of 96.5920, indicating that if there is an increase of one unit in the bedrooms variable, the value of realSum will increase by 96.5920 units, assuming all other independent variables remain constant.\n",
        "* dist has a coefficient of 3.6295, indicating that if there is an increase of one unit in the dist variable, the value of realSum will increase by 3.6295 units, assuming all other independent variables remain constant.\n",
        "* metro_dist has a coefficient of -25.7342, indicating that if there is an increase of one unit in the metro_dist variable, the value of realSum will decrease by 25.7342 units, assuming all other independent variables remain constant.\n",
        "* day_type has a coefficient of 8.9192, indicating that if there is a change in the day_type variable from weekday to weekend, the value of realSum will increase by 8.9192 units, assuming all other independent variables remain constant.\n",
        "* entire_home_apt has a coefficient of 109.0599, indicating that if there is a change in the entire_home_apt variable from 0 to 1, the value of realSum will increase by 109.0599 units, assuming all other independent variables remain constant.\n",
        "* private_room has a coefficient of 23.9219, indicating that if there is a change in the private_room variable from 0 to 1, the value of realSum will increase by 23.9219 units, assuming all other independent variables remain constant.\n",
        "* shared room has a coefficient of -61.29, indicating that if there is a change in the private_room variable from 0 to 1, the value of realSum will increase by -61.29 units, assuming all other independent variables remain constant."
      ],
      "metadata": {
        "id": "jshQ7NBPvVun"
      }
    },
    {
      "cell_type": "code",
      "source": [
        "# Checking Multicorrelation\n",
        "X = sm.add_constant(df_2.drop(columns=['realSum']))\n",
        "vif = pd.DataFrame()\n",
        "vif[\"variables\"] = X.columns\n",
        "vif[\"VIF\"] = [variance_inflation_factor(X.values, i) for i in range(X.shape[1])]\n",
        "vif = vif.sort_values(by='VIF', ascending=False)\n",
        "\n",
        "print(\"\\nVIF:\")\n",
        "print(vif)"
      ],
      "metadata": {
        "colab": {
          "base_uri": "https://localhost:8080/"
        },
        "id": "wWIoR7w8oIYD",
        "outputId": "e45f1bd0-f30a-4cab-84d9-a68615e47b7c"
      },
      "execution_count": 341,
      "outputs": [
        {
          "output_type": "stream",
          "name": "stderr",
          "text": [
            "/usr/local/lib/python3.9/dist-packages/statsmodels/regression/linear_model.py:1752: RuntimeWarning: divide by zero encountered in double_scalars\n",
            "  return 1 - self.ssr/self.centered_tss\n",
            "/usr/local/lib/python3.9/dist-packages/statsmodels/stats/outliers_influence.py:195: RuntimeWarning: divide by zero encountered in double_scalars\n",
            "  vif = 1. / (1. - r_squared_i)\n"
          ]
        },
        {
          "output_type": "stream",
          "name": "stdout",
          "text": [
            "\n",
            "VIF:\n",
            "            variables       VIF\n",
            "9     entire_home_apt       inf\n",
            "10       private_room       inf\n",
            "11        shared_room       inf\n",
            "1     person_capacity  2.018217\n",
            "6                dist  1.550270\n",
            "5            bedrooms  1.532150\n",
            "7          metro_dist  1.460686\n",
            "4                 biz  1.378411\n",
            "3               multi  1.331793\n",
            "2   host_is_superhost  1.024449\n",
            "8            day_type  1.001045\n",
            "0               const  0.000000\n"
          ]
        }
      ]
    },
    {
      "cell_type": "code",
      "source": [
        "#Checking R2 and RMSE\n",
        "import numpy as np\n",
        "from sklearn.metrics import mean_squared_error, r2_score\n",
        "\n",
        "y_pred = results.predict(df_2)\n",
        "rmse = np.sqrt(mean_squared_error(df_2[\"realSum\"], y_pred))\n",
        "\n",
        "# Calculate R2\n",
        "r2 = r2_score(df_2[\"realSum\"], y_pred)\n",
        "\n",
        "# Print\n",
        "print(\"RMSE:\", rmse)\n",
        "print(\"R-squared:\", r2)"
      ],
      "metadata": {
        "colab": {
          "base_uri": "https://localhost:8080/"
        },
        "id": "9yBYAQuZpW5n",
        "outputId": "318ac967-ccc5-41f2-ce3a-5c5d3adb25e0"
      },
      "execution_count": 342,
      "outputs": [
        {
          "output_type": "stream",
          "name": "stdout",
          "text": [
            "RMSE: 314.74218448394095\n",
            "R-squared: 0.07889887594988876\n"
          ]
        }
      ]
    },
    {
      "cell_type": "markdown",
      "source": [
        "## Conclusion"
      ],
      "metadata": {
        "id": "o4YBgODJy0nv"
      }
    },
    {
      "cell_type": "markdown",
      "source": [
        "On the other hand, being a superhost has a negative impact on the price with a coefficient of -40.07, and offering a shared room has a smaller negative impact with a coefficient of -61.29. Distance from the city center (dist) and distance from the nearest metro station (metro_dist) also have negative coefficients, indicating that the further away the property is from these locations, the lower the price.\n",
        "\n",
        "In conclusion, the type of accommodation, number of bedrooms, and person capacity are the most significant variables affecting the price of the property. Being a superhost and offering a shared room have a negative impact on the price, while location variables such as distance from the city center and nearest metro station also play a role in determining the price. These findings can be useful for property owners and renters to make informed decisions when pricing their properties."
      ],
      "metadata": {
        "id": "IgcWBn9-y2vS"
      }
    }
  ],
  "metadata": {
    "colab": {
      "provenance": []
    },
    "kernelspec": {
      "display_name": "Python 3",
      "name": "python3"
    },
    "language_info": {
      "name": "python"
    }
  },
  "nbformat": 4,
  "nbformat_minor": 0
}